{
 "cells": [
  {
   "cell_type": "markdown",
   "metadata": {},
   "source": [
    "# Glow"
   ]
  },
  {
   "cell_type": "markdown",
   "metadata": {},
   "source": [
    "Difference from RealNVP \n",
    "\n",
    "- Invertible 1x1 convolution\n",
    "- Actnorm"
   ]
  },
  {
   "cell_type": "markdown",
   "metadata": {},
   "source": [
    "## Invertible 1x1 convolution\n",
    "\n",
    "RealNVP uses Permutation by the channel dimention for Affine Coupling Layer. (Intuitively、we want to replace $x_a$ and $x_b$, I think...)\n",
    "\n",
    "In Glow, the Permutaion is changed to the Invertible 1x1 convolution he proposed. It's a learnable layer (bijector).\n",
    "\n",
    "formula\n",
    "\n",
    "1. forward function\n",
    "2. reverse function\n",
    "3. log determinant"
   ]
  },
  {
   "cell_type": "markdown",
   "metadata": {},
   "source": [
    "## Actnorm\n",
    "Instead of Batch Normalization\n",
    "\n",
    "Week points of Batch Normalization\n",
    "1. IF batch size is small, it may decrease performance. (In flow base model, Batch size is often too small since this model needs large memory...)\n",
    "\n",
    "\n",
    "Behavior of Actnorm\n",
    "1. normalize by **channel-wise** , using the **first batch**\n",
    "2. initialize weights by the normalize parameter. (bias and scale)\n",
    "3. learn these weights since next batch."
   ]
  },
  {
   "cell_type": "markdown",
   "metadata": {},
   "source": [
    "# Problem Setting\n",
    "Multivariate normal distribution $\\leftrightarrow$ MNIST dataset"
   ]
  },
  {
   "cell_type": "markdown",
   "metadata": {},
   "source": [
    "# Use Tensorflow\n",
    "## Implementation Plan\n",
    "0. Preprocess\n",
    "1. Create Dataset\n",
    "2. Build Multi-Scale Model\n",
    "    1. Invertible 1x1 convolution Bijector\n",
    "    2. Actnorm Bijector\n",
    "    3. Multi-Scale Model\n",
    "4. Build モデル\n",
    "    1. TransformDistribution\n",
    "    2. Loss, Optimizar\n",
    "    3. Training\n",
    "    4. Inference"
   ]
  },
  {
   "cell_type": "markdown",
   "metadata": {},
   "source": [
    "## Preprocess"
   ]
  },
  {
   "cell_type": "code",
   "execution_count": 1,
   "metadata": {},
   "outputs": [
    {
     "name": "stdout",
     "output_type": "stream",
     "text": [
      "tensorflow:  2.0.0-rc0\n",
      "tensorflow-probability:  0.8.0-rc0\n"
     ]
    }
   ],
   "source": [
    "import numpy as np\n",
    "import matplotlib.pyplot as plt\n",
    "import tensorflow as tf\n",
    "import tensorflow_probability as tfp\n",
    "\n",
    "tfd = tfp.distributions\n",
    "tfb = tfp.bijectors\n",
    "\n",
    "print('tensorflow: ', tf.__version__)\n",
    "print('tensorflow-probability: ', tfp.__version__)"
   ]
  },
  {
   "cell_type": "markdown",
   "metadata": {},
   "source": [
    "## Create Dataset\n",
    "ref. [realnvp's tutorial](./RealNVP_mnist_en.ipynb)"
   ]
  },
  {
   "cell_type": "markdown",
   "metadata": {},
   "source": [
    "### Create Target Distibution ($z$)\n",
    "In this part, use Multivariate normal distribution"
   ]
  },
  {
   "cell_type": "code",
   "execution_count": 2,
   "metadata": {},
   "outputs": [
    {
     "name": "stdout",
     "output_type": "stream",
     "text": [
      "Tensorflow             : shape: (2, 2, 256) mean: -0.016205 sd: 0.978316\n",
      "Tensorflow Probability : shape: (2, 2, 256) mean: 0.039007 sd: 0.966307\n"
     ]
    }
   ],
   "source": [
    "# Tensorflow の distribution を使う場合\n",
    "z = tf.random.normal([2, 2, 256])\n",
    "print('Tensorflow             : shape: {} mean: {:.6f} sd: {:.6f}'.format(z.shape, tf.math.reduce_mean(z), tf.math.reduce_std(z)))\n",
    "# Tensorflow Probability の distribution を使う場合\n",
    "target_dist = tfd.Normal(loc=0., scale=1.)\n",
    "z = target_dist.sample([2, 2, 256])\n",
    "print('Tensorflow Probability : shape: {} mean: {:.6f} sd: {:.6f}'.format(z.shape, tf.math.reduce_mean(z), tf.math.reduce_std(z)))"
   ]
  },
  {
   "cell_type": "markdown",
   "metadata": {},
   "source": [
    "### Create Original Distribution (MNIST)"
   ]
  },
  {
   "cell_type": "code",
   "execution_count": 3,
   "metadata": {},
   "outputs": [],
   "source": [
    "feature_description  = {\n",
    "    'img': tf.io.FixedLenFeature([], tf.string),\n",
    "    'label': tf.io.FixedLenFeature([], tf.int64, default_value=0)\n",
    "}\n",
    "\n",
    "def _parse_function(example_proto):\n",
    "    feature = tf.io.parse_single_example(example_proto, feature_description)\n",
    "    img = tf.io.decode_raw(feature['img'], out_type=tf.uint8)\n",
    "    img = tf.reshape(img, [32, 32, 1])\n",
    "    img = tf.cast(img, dtype=tf.float32)\n",
    "    img = (img / (255.0 / 2)) - 1\n",
    "    feature['img'] = img\n",
    "    return feature"
   ]
  },
  {
   "cell_type": "code",
   "execution_count": 4,
   "metadata": {},
   "outputs": [
    {
     "name": "stdout",
     "output_type": "stream",
     "text": [
      "<TFRecordDatasetV2 shapes: (), types: tf.string>\n",
      "<MapDataset shapes: {img: (32, 32, 1), label: ()}, types: {img: tf.float32, label: tf.int64}>\n"
     ]
    }
   ],
   "source": [
    "import os\n",
    "\n",
    "SHUFFLE_BUFFER_SIZE = 1000\n",
    "BATCH_SIZE = 64\n",
    "\n",
    "filenames = [os.path.join('mnists', 'train.tfrecord')]\n",
    "raw_dataset = tf.data.TFRecordDataset(filenames)\n",
    "print(raw_dataset)\n",
    "parsed_dataset = raw_dataset.map(_parse_function) \n",
    "print(parsed_dataset)"
   ]
  },
  {
   "cell_type": "code",
   "execution_count": 5,
   "metadata": {},
   "outputs": [
    {
     "data": {
      "image/png": "[encoded data removed]",
      "text/plain": [
       "<Figure size 432x288 with 1 Axes>"
      ]
     },
     "metadata": {
      "needs_background": "light"
     },
     "output_type": "display_data"
    }
   ],
   "source": [
    "for image_features in parsed_dataset.take(1):\n",
    "    plt.imshow(tf.squeeze(image_features['img'], axis=-1), cmap='gray_r')"
   ]
  },
  {
   "cell_type": "markdown",
   "metadata": {},
   "source": [
    "## Build Multi-Scale Model"
   ]
  },
  {
   "cell_type": "markdown",
   "metadata": {},
   "source": [
    "### Invertive 1x1 convolution Bijector\n",
    "ref. \n",
    "- Tensorflow Probability's implementation tensorflow_probability/bijector/MatvecLU \n",
    "- the issue https://github.com/tensorflow/probability/issues/545 "
   ]
  },
  {
   "cell_type": "code",
   "execution_count": 6,
   "metadata": {
    "jupyter": {
     "source_hidden": true
    }
   },
   "outputs": [
    {
     "name": "stdout",
     "output_type": "stream",
     "text": [
      "conv1x1 variable\n",
      " (<tf.Variable 'trainable_lu_factorization/lower_upper:0' shape=(3, 3) dtype=float32, numpy=\n",
      "array([[-0.59477895, -0.3432535 ,  0.72692156],\n",
      "       [ 0.99011046,  1.1414331 , -0.8230729 ],\n",
      "       [ 0.9200218 , -0.15221724, -1.4729699 ]], dtype=float32)>, <tf.Variable 'trainable_lu_factorization/permutation:0' shape=(3,) dtype=int32, numpy=array([1, 2, 0], dtype=int32)>)\n",
      "Model: \"conv1x1\"\n",
      "_________________________________________________________________\n",
      "Layer (type)                 Output Shape              Param #   \n",
      "=================================================================\n",
      "input_1 (InputLayer)         [(None, 28, 28, 3)]       0         \n",
      "_________________________________________________________________\n",
      "distribution_lambda (Distrib ((None, 28, 28, 3), (None 9         \n",
      "_________________________________________________________________\n",
      "distribution_lambda_1 (Distr ((None, 28, 28, 3), (None 9         \n",
      "=================================================================\n",
      "Total params: 9\n",
      "Trainable params: 9\n",
      "Non-trainable params: 0\n",
      "_________________________________________________________________\n",
      "Some Trainable Variables exist\n",
      "tf.Tensor(-1.7914586e-05, shape=(), dtype=float32)\n",
      "WARNING:tensorflow:From /home/meguru/Github/tf-test/venv/lib/python3.7/site-packages/tensorflow_core/python/ops/array_grad.py:502: _EagerTensorBase.cpu (from tensorflow.python.framework.ops) is deprecated and will be removed in a future version.\n",
      "Instructions for updating:\n",
      "Use tf.identity instead.\n",
      "(2, 28, 28, 3)\n"
     ]
    }
   ],
   "source": [
    "def trainable_lu_factorization(event_size,\n",
    "                               batch_shape=(),\n",
    "                               seed=None,\n",
    "                               dtype=tf.float32,\n",
    "                               name=None):\n",
    "    with tf.name_scope('trainable_lu_factorization'):\n",
    "        event_size = tf.convert_to_tensor(event_size,\n",
    "                                          dtype=tf.int32,\n",
    "                                          name='event_size')\n",
    "        batch_shape = tf.convert_to_tensor(batch_shape,\n",
    "                                           dtype=event_size.dtype,\n",
    "                                           name='batch_shape')\n",
    "        random_matrix = tf.Variable(tf.random.uniform(\n",
    "            shape=tf.concat([batch_shape, [event_size, event_size]], axis=0),\n",
    "            dtype=dtype,\n",
    "            seed=seed,\n",
    "        ),\n",
    "                                    name='conv1x1_weights')\n",
    "\n",
    "        def lu_p(m):\n",
    "            return tf.linalg.lu(tf.linalg.qr(m).q)\n",
    "\n",
    "        # lower_upper = tfp.util.DeferredTensor(lambda m: lu_p(m)[0],\n",
    "        #                                       random_matrix)\n",
    "        # permutation = tfp.util.DeferredTensor(lambda m: lu_p(m)[1],\n",
    "        #                                       random_matrix,\n",
    "        #                                       # trainable=False,\n",
    "        #                                       dtype=tf.int32,\n",
    "        #                                       shape=random_matrix.shape[:-1])\n",
    "        lower_upper = tf.Variable(lu_p(random_matrix)[0], name='lower_upper')\n",
    "        # ref https://github.com/tensorflow/probability/issues/545\n",
    "        permutation = tf.Variable(lu_p(random_matrix)[1], trainable=False, name='permutation')\n",
    "        return lower_upper, permutation\n",
    "\n",
    "\n",
    "def build_model(channels=3):\n",
    "    # conv1x1 setup\n",
    "    t_lower_upper, t_permutation = trainable_lu_factorization(channels)\n",
    "    conv1x1 = tfb.MatvecLU(t_lower_upper, t_permutation, name='MatvecLU')\n",
    "    print('conv1x1 variable\\n', conv1x1.variables)\n",
    "    inv_conv1x1 = tfb.Invert(conv1x1)\n",
    "\n",
    "    # forward setup\n",
    "    fwd = tfp.layers.DistributionLambda(\n",
    "        lambda x: conv1x1(tfd.Deterministic(x)))\n",
    "    fwd.vars = conv1x1.trainable_variables\n",
    "\n",
    "    # inverse setup\n",
    "    inv = tfp.layers.DistributionLambda(\n",
    "        lambda x: inv_conv1x1(tfd.Deterministic(x)))\n",
    "    inv.vars = inv_conv1x1.trainable_variables\n",
    "    \n",
    "    x: tf.Tensor = tf.keras.Input(shape=[28, 28, channels])\n",
    "    fwd_x: tfp.distributions.TransformedDistribution = fwd(x)\n",
    "    rev_fwd_x: tfp.distributions.TransformedDistribution = inv(fwd_x)\n",
    "    example_model = tf.keras.Model(inputs=x, outputs=rev_fwd_x, name='conv1x1')\n",
    "    return example_model\n",
    "\n",
    "\n",
    "def test_conv1x1():\n",
    "    example_model = build_model()\n",
    "    example_model.trainable = True\n",
    "    example_model.summary()\n",
    "\n",
    "    real_x = tf.random.uniform(shape=[2, 28, 28, 3], dtype=tf.float32)\n",
    "    if example_model.weights == []:\n",
    "        print('No Trainable Variable exists')\n",
    "    else:\n",
    "        print('Some Trainable Variables exist')\n",
    "\n",
    "    with tf.GradientTape() as tape:\n",
    "        tape.watch(real_x)\n",
    "        out_x = example_model(real_x)\n",
    "        out_x = out_x\n",
    "        loss = out_x - real_x\n",
    "    print(tf.math.reduce_sum(real_x - out_x))\n",
    "    # => nealy 0\n",
    "    # ex. tf.Tensor(1.3522818e-05, shape=(), dtype=float32)\n",
    "\n",
    "    try:\n",
    "        print(tape.gradient(loss, real_x).shape)\n",
    "    except Exception as e:\n",
    "        print('Cannot Calculate Gradient')\n",
    "        print(e)\n",
    "        \n",
    "test_conv1x1()"
   ]
  },
  {
   "cell_type": "markdown",
   "metadata": {},
   "source": [
    "### Actnorm Bijector\n",
    "Notice: Initialize by the **First Batch**\n",
    "\n",
    "※ By the way, Actnorm implementation by OpenAI https://github.com/openai/glow/blob/master/tfops.py#L71-L87　is not same as their paper's formula, I think...     \n",
    "Forward's formula may be $(x + b) \\odot s$ ..."
   ]
  },
  {
   "cell_type": "code",
   "execution_count": 7,
   "metadata": {},
   "outputs": [
    {
     "name": "stdout",
     "output_type": "stream",
     "text": [
      "input: x [ 99.99293  100.00224   99.998405  99.998146]\n",
      "output: y [-4.3174623e-06 -3.9696693e-07  2.7258693e-06 -8.9507548e-06]\n",
      "inverse: z [ 99.99293  100.00224   99.998405  99.998146]\n",
      "log_det_jacobian:  0.309142\n"
     ]
    }
   ],
   "source": [
    "class Actnorm(tfb.Bijector):\n",
    "    def __init__(self, channels:int, validate_args=False, name='actnorm', log_scale_factor=1.0):\n",
    "        super(Actnorm, self).__init__(\n",
    "            # this bijector affect vector-wise (channel-wise) => forward_min_event_ndims=1\n",
    "            forward_min_event_ndims=1,\n",
    "            validate_args=validate_args,\n",
    "            name=name\n",
    "        )\n",
    "        self.log_scale_factor = log_scale_factor\n",
    "        self.initialized = False\n",
    "        self.log_scale = tf.Variable(tf.random.normal([channels]))\n",
    "        self.bias = tf.Variable(tf.random.normal([channels]))\n",
    "        \n",
    "    def setStat(self, x):\n",
    "        mean = tf.math.reduce_mean(x, axis=[0, 1, 2])\n",
    "        var = tf.math.reduce_mean((x - mean) ** 2, axis=[0, 1, 2])\n",
    "        stdvar = tf.math.sqrt(var) + 1e-6\n",
    "        log_scale = tf.math.log(1./ stdvar / self.log_scale_factor) * self.log_scale_factor\n",
    "        self.bias.assign(- mean)\n",
    "        self.log_scale.assign(log_scale)\n",
    "\n",
    "    def _forward(self, x):\n",
    "        if not self.initialized:\n",
    "            self.setStat(x)\n",
    "            self.initialized = True\n",
    "        return (x + self.bias) * tf.exp(self.log_scale)\n",
    "    \n",
    "    def _inverse(self, y):\n",
    "        if not self.initialized:\n",
    "            self.setStat(y)\n",
    "            self.initialized = True\n",
    "        return y * tf.exp(- self.log_scale) - self.bias\n",
    "    \n",
    "    def _forward_log_det_jacobian(self, x):\n",
    "        return tf.reduce_sum(self.log_scale)\n",
    "\n",
    "    def _inverse_log_det_jacobian(self, y):\n",
    "        return - tf.reduce_sum(self.log_scale)\n",
    "    \n",
    "def test_actnorm():\n",
    "    actnorm = Actnorm(4)\n",
    "    x = tf.random.normal([100, 16, 16, 4]) + 100\n",
    "    y = actnorm.forward(x)\n",
    "    z = actnorm.inverse(y)\n",
    "    print('input: x', tf.reduce_mean(x, axis=[0, 1, 2]).numpy())\n",
    "    print('output: y', tf.reduce_mean(y, axis=[0, 1, 2]).numpy())\n",
    "    print('inverse: z', tf.reduce_mean(z, axis=[0, 1, 2]).numpy())\n",
    "    print('log_det_jacobian: ', actnorm.forward_log_det_jacobian(y, event_ndims=3).numpy())\n",
    "\n",
    "test_actnorm()"
   ]
  },
  {
   "cell_type": "markdown",
   "metadata": {},
   "source": [
    "### Multi-Scale Model\n",
    "Implement blueprint    \n",
    "![](./multi-scale-arch.png)"
   ]
  },
  {
   "cell_type": "code",
   "execution_count": 1,
   "metadata": {},
   "outputs": [],
   "source": [
    "# ref RealNVP_mnist_en.ipynb\n",
    "from bijectors import squeeze3d\n",
    "from bijectors import affineCoupling\n",
    "from bijectors import blockwise3d\n",
    "Squeeze3D = squeeze3d.Squeeze3D\n",
    "NN = affineCoupling.NN\n",
    "RealNVP = affineCoupling.RealNVP\n",
    "Blockwise3D = blockwise3d.Blockwise3D"
   ]
  },
  {
   "cell_type": "code",
   "execution_count": 9,
   "metadata": {},
   "outputs": [
    {
     "data": {
      "text/plain": [
       "<tf.Tensor: id=1761, shape=(), dtype=float32, numpy=0.0>"
      ]
     },
     "execution_count": 9,
     "metadata": {},
     "output_type": "execute_result"
    }
   ],
   "source": [
    "def gen_flowSteps(\n",
    "    # for realnvp\n",
    "    input_shape: list,\n",
    "    n_hidden: list = [128, 128],\n",
    "    # for flowStep\n",
    "    k=4,\n",
    "    forward_min_event_ndims: int = 3,\n",
    "    validate_args: bool = False,\n",
    "    name: str = \"flow_step\",\n",
    "):\n",
    "    flow_step_list = []\n",
    "    for i in range(k):\n",
    "        t_lower_upper, t_permutation = trainable_lu_factorization(input_shape[-1])\n",
    "        # TODO: if include this actnorm in my model, loss is to be NaN ... \n",
    "        flow_step_list.append(Actnorm(input_shape[-1]))\n",
    "        flow_step_list.append(\n",
    "            tfb.MatvecLU(\n",
    "                t_lower_upper, t_permutation, name=\"{}_{}/matveclu\".format(name, i)\n",
    "            )\n",
    "        ),\n",
    "        flow_step_list.append(\n",
    "            RealNVP(\n",
    "                input_shape=input_shape,\n",
    "                n_hidden=n_hidden,\n",
    "                validate_args=validate_args,\n",
    "                name=\"{}_{}/realnvp\".format(name, i),\n",
    "            )\n",
    "        )\n",
    "\n",
    "    flowSteps = tfb.Chain(\n",
    "        list(reversed(flow_step_list)), validate_args=validate_args, name=name\n",
    "    )\n",
    "    return flowSteps\n",
    "\n",
    "\n",
    "def test_gen_flowSteps():\n",
    "    flowSteps = gen_flowSteps(\n",
    "        k=2, input_shape=[16, 16, 4], forward_min_event_ndims=0, name=\"flowstep_0\"\n",
    "    )\n",
    "    x = tf.keras.Input([16, 16, 4])\n",
    "    y = flowSteps(x)\n",
    "    # tf.keras.Model(x, y).summary()\n",
    "\n",
    "    x = tf.random.normal([6, 16, 16, 4])\n",
    "    y = flowSteps.forward(x)\n",
    "    z = flowSteps.inverse(y)\n",
    "    return tf.reduce_sum(z - x)\n",
    "\n",
    "\n",
    "test_gen_flowSteps()"
   ]
  },
  {
   "cell_type": "code",
   "execution_count": 10,
   "metadata": {
    "jupyter": {
     "source_hidden": true
    }
   },
   "outputs": [
    {
     "name": "stdout",
     "output_type": "stream",
     "text": [
      "66\n"
     ]
    },
    {
     "data": {
      "text/plain": [
       "<tf.Tensor: id=4611, shape=(), dtype=float32, numpy=0.0>"
      ]
     },
     "execution_count": 10,
     "metadata": {},
     "output_type": "execute_result"
    }
   ],
   "source": [
    "def gen_flow(input_shape, level=3, flow_step_args: dict = None):\n",
    "    def _gen_input_shapes(input_shape, level):\n",
    "        input_shape = input_shape\n",
    "        input_shapes = []\n",
    "        for i in range(level):\n",
    "            input_shape = [\n",
    "                input_shape[0] // 2,\n",
    "                input_shape[1] // 2,\n",
    "                input_shape[2] * 4 - i * 8,\n",
    "            ]\n",
    "            input_shapes.append(input_shape)\n",
    "        return input_shapes\n",
    "\n",
    "    input_shapes = _gen_input_shapes(input_shape, level)\n",
    "\n",
    "    def _add_flow(_input_shapes, flow_step_args):\n",
    "        flow_lists = []\n",
    "        flow_lists.append(\n",
    "            Squeeze3D(name=\"Squeeze_{}\".format(level - len(_input_shapes)))\n",
    "        )\n",
    "        flowSteps = gen_flowSteps(\n",
    "           k=2,\n",
    "           input_shape=_input_shapes[0],\n",
    "           name=\"Flowsteps_{}\".format(level - len(_input_shapes)),\n",
    "        )\n",
    "        flow_lists.append(flowSteps)\n",
    "        if len(_input_shapes) != 1:\n",
    "            flow_lists.append(\n",
    "                Blockwise3D(\n",
    "                    [\n",
    "                        tfb.Identity(),\n",
    "                        tfb.Chain(\n",
    "                            list(reversed(_add_flow(_input_shapes[1:], flow_step_args)))\n",
    "                        ),\n",
    "                    ],\n",
    "                    name=\"Blockwise3D_{}\".format(level - len(_input_shapes)),\n",
    "                )\n",
    "            )\n",
    "        flow_lists.append(\n",
    "            tfb.Invert(\n",
    "                Squeeze3D(name=\"Unsqueeze_{}\".format(level - len(_input_shapes)))\n",
    "            )\n",
    "        )\n",
    "        return flow_lists\n",
    "\n",
    "    return tfb.Chain(list(reversed(_add_flow(input_shapes, level))))\n",
    "\n",
    "\n",
    "def test_gen_flow():\n",
    "    flow = gen_flow([32, 32, 1])\n",
    "    print(len(flow.trainable_variables))\n",
    "    x = tf.keras.Input([32, 32, 1])\n",
    "    y = flow.forward(x)\n",
    "    # tf.keras.Model(x, y).summary()\n",
    "    tf.keras.utils.plot_model(\n",
    "        tf.keras.Model(x, y), show_shapes=True, to_file=\"realnvp.png\"\n",
    "    )\n",
    "    x = tf.random.normal([3, 32, 32, 1])\n",
    "    y = flow.forward(x)\n",
    "    z = flow.inverse(y) \n",
    "    return tf.reduce_sum(z - x)\n",
    "\n",
    "test_gen_flow()"
   ]
  },
  {
   "cell_type": "markdown",
   "metadata": {},
   "source": [
    "## Build Model"
   ]
  },
  {
   "cell_type": "markdown",
   "metadata": {},
   "source": [
    "### TransformDistribution"
   ]
  },
  {
   "cell_type": "code",
   "execution_count": 24,
   "metadata": {},
   "outputs": [
    {
     "name": "stdout",
     "output_type": "stream",
     "text": [
      "66\n",
      "trainable_variables:  66\n"
     ]
    }
   ],
   "source": [
    "flow_bijector = gen_flow([32, 32, 1], level=3)\n",
    "print(len(flow_bijector.trainable_variables))\n",
    "flow = tfd.TransformedDistribution(\n",
    "    event_shape =[32, 32, 1],\n",
    "    distribution=tfd.Normal(loc=0.0, scale=1.0),\n",
    "    bijector=flow_bijector\n",
    ")\n",
    "print('trainable_variables: ', len(flow.bijector.trainable_variables))"
   ]
  },
  {
   "cell_type": "markdown",
   "metadata": {},
   "source": [
    "### Loss, Optimizer"
   ]
  },
  {
   "cell_type": "code",
   "execution_count": 26,
   "metadata": {},
   "outputs": [
    {
     "name": "stdout",
     "output_type": "stream",
     "text": [
      "rm: 'checkpoints' を削除できません: そのようなファイルやディレクトリはありません\n"
     ]
    }
   ],
   "source": [
    "!rm -r checkpoints"
   ]
  },
  {
   "cell_type": "code",
   "execution_count": 27,
   "metadata": {},
   "outputs": [],
   "source": [
    "@tf.function\n",
    "def loss():\n",
    "    return - tf.reduce_mean(flow.log_prob(targets['img']))\n",
    "\n",
    "\n",
    "optimizer = tf.optimizers.Adam(learning_rate=1e-4) \n",
    "log = tf.summary.create_file_writer('checkpoints')\n",
    "avg_loss = tf.keras.metrics.Mean(name='loss', dtype=tf.float32)"
   ]
  },
  {
   "cell_type": "code",
   "execution_count": 46,
   "metadata": {},
   "outputs": [
    {
     "name": "stdout",
     "output_type": "stream",
     "text": [
      "(120, 32, 32, 1)\n",
      "tf.Tensor(14203124000000.0, shape=(), dtype=float32)\n"
     ]
    }
   ],
   "source": [
    "BATCH_SIZE=120\n",
    "train_dataset = parsed_dataset.shuffle(SHUFFLE_BUFFER_SIZE).batch(BATCH_SIZE)\n",
    "for target in train_dataset.take(1):\n",
    "    targets = target\n",
    "print(targets['img'].shape)\n",
    "with tf.GradientTape() as tape:\n",
    "    log_prob_loss = loss()\n",
    "grads = tape.gradient(log_prob_loss, flow.trainable_variables)\n",
    "print(log_prob_loss)"
   ]
  },
  {
   "cell_type": "markdown",
   "metadata": {},
   "source": [
    "### Training"
   ]
  },
  {
   "cell_type": "code",
   "execution_count": 47,
   "metadata": {},
   "outputs": [
    {
     "name": "stdout",
     "output_type": "stream",
     "text": [
      "Step <tf.Variable 'Adam/iter:0' shape=() dtype=int64, numpy=1000> Loss 542264.750000\n",
      "Step <tf.Variable 'Adam/iter:0' shape=() dtype=int64, numpy=2000> Loss 79614.140625\n",
      "Step <tf.Variable 'Adam/iter:0' shape=() dtype=int64, numpy=3000> Loss 33209.816406\n",
      "Step <tf.Variable 'Adam/iter:0' shape=() dtype=int64, numpy=4000> Loss 13674.369141\n",
      "Step <tf.Variable 'Adam/iter:0' shape=() dtype=int64, numpy=5000> Loss -8822.915039\n",
      "Step <tf.Variable 'Adam/iter:0' shape=() dtype=int64, numpy=6000> Loss -47744.031250\n",
      "Step <tf.Variable 'Adam/iter:0' shape=() dtype=int64, numpy=7000> Loss -74261.812500\n",
      "Step <tf.Variable 'Adam/iter:0' shape=() dtype=int64, numpy=8000> Loss -95357.031250\n",
      "Step <tf.Variable 'Adam/iter:0' shape=() dtype=int64, numpy=9000> Loss -118151.429688\n",
      "Step <tf.Variable 'Adam/iter:0' shape=() dtype=int64, numpy=10000> Loss -138773.843750\n",
      "Step <tf.Variable 'Adam/iter:0' shape=() dtype=int64, numpy=11000> Loss -154746.093750\n",
      "Step <tf.Variable 'Adam/iter:0' shape=() dtype=int64, numpy=12000> Loss -163078.125000\n",
      "Step <tf.Variable 'Adam/iter:0' shape=() dtype=int64, numpy=13000> Loss -168966.500000\n",
      "Step <tf.Variable 'Adam/iter:0' shape=() dtype=int64, numpy=14000> Loss -172344.578125\n",
      "Step <tf.Variable 'Adam/iter:0' shape=() dtype=int64, numpy=15000> Loss -175627.593750\n"
     ]
    }
   ],
   "source": [
    "n_epochs = 30\n",
    "\n",
    "flag = False\n",
    "for epoch in range(n_epochs):\n",
    "    if flag:\n",
    "        print('raise NaN')\n",
    "        break\n",
    "    for targets in train_dataset:\n",
    "        with tf.GradientTape() as tape:\n",
    "            log_prob_loss = loss()\n",
    "        grads = tape.gradient(log_prob_loss, flow.trainable_variables)\n",
    "        optimizer.apply_gradients(zip(grads, flow.trainable_variables))\n",
    "        if tf.math.is_nan(log_prob_loss):\n",
    "            flag=True\n",
    "            break\n",
    "        avg_loss.update_state(log_prob_loss)\n",
    "        if tf.equal(optimizer.iterations % 1000, 0):\n",
    "            print(\"Step {} Loss {:.6f}\".format(optimizer.iterations, avg_loss.result()))\n",
    "        if tf.equal(optimizer.iterations % 100, 0):\n",
    "            with log.as_default():\n",
    "                tf.summary.scalar(\"loss\", avg_loss.result(), step=optimizer.iterations)\n",
    "                avg_loss.reset_states()"
   ]
  },
  {
   "cell_type": "markdown",
   "metadata": {},
   "source": [
    "### Inference"
   ]
  },
  {
   "cell_type": "code",
   "execution_count": 284,
   "metadata": {},
   "outputs": [],
   "source": [
    "filenames = [os.path.join('mnists', 'test.tfrecord')]\n",
    "test_raw_dataset = tf.data.TFRecordDataset(filenames)\n",
    "test_parsed_dataset = test_raw_dataset.map(_parse_function) \n",
    "test_dataset = test_parsed_dataset.shuffle(SHUFFLE_BUFFER_SIZE).batch(BATCH_SIZE)"
   ]
  },
  {
   "cell_type": "code",
   "execution_count": 60,
   "metadata": {},
   "outputs": [
    {
     "name": "stdout",
     "output_type": "stream",
     "text": [
      "log probability:  -24.176485\n",
      "inv mean:  -0.09408589  std:  6.819548\n",
      "re:trg mean:  -0.80294776  std:  0.54607326\n",
      "(1, 32, 32, 1)\n"
     ]
    },
    {
     "data": {
      "text/plain": [
       "<matplotlib.image.AxesImage at 0x7f4301fd7490>"
      ]
     },
     "execution_count": 60,
     "metadata": {},
     "output_type": "execute_result"
    },
    {
     "data": {
      "image/png": "[encoded data removed]",
      "text/plain": [
       "<Figure size 576x576 with 6 Axes>"
      ]
     },
     "metadata": {
      "needs_background": "light"
     },
     "output_type": "display_data"
    }
   ],
   "source": [
    "fig = plt.figure(figsize=(8, 8))\n",
    "for targets in test_dataset.take(1):\n",
    "    trg = targets[\"img\"]\n",
    "    inv = flow.bijector.inverse(trg)\n",
    "    re_trg = flow.bijector.forward(inv)\n",
    "\n",
    "print('log probability: ', tf.reduce_mean(tfd.Normal(0., 1.).log_prob(inv)).numpy())\n",
    "print(\"inv mean: \", tf.reduce_mean(inv).numpy(), \" std: \", tf.math.reduce_std(inv).numpy())\n",
    "print(\"re:trg mean: \", tf.reduce_mean(re_trg).numpy(), \" std: \", tf.math.reduce_std(re_trg).numpy())\n",
    "\n",
    "re_inv = np.array([(inv[0] + inv[1]) / 2.0])\n",
    "print(re_inv.shape)\n",
    "re_re_trg = flow.bijector.forward(re_inv)\n",
    "\n",
    "ax = fig.add_subplot(2, 3, 1)\n",
    "ax.imshow(tf.squeeze(trg[0], axis=-1), aspect=\"auto\", cmap=\"gray_r\")\n",
    "\n",
    "ax = fig.add_subplot(2, 3, 4)\n",
    "ax.imshow(tf.squeeze(re_trg[0], axis=-1), aspect=\"auto\", cmap=\"gray_r\")\n",
    "\n",
    "ax = fig.add_subplot(2, 3, 2)\n",
    "ax.imshow(tf.squeeze(trg[1], axis=-1), aspect=\"auto\", cmap=\"gray_r\")\n",
    "\n",
    "ax = fig.add_subplot(2, 3, 5)\n",
    "ax.imshow(tf.squeeze(re_trg[1], axis=-1), aspect=\"auto\", cmap=\"gray_r\")\n",
    "\n",
    "ax = fig.add_subplot(2, 3, 3)\n",
    "ax.imshow(tf.squeeze(re_inv[0], axis=-1), aspect=\"auto\", cmap=\"gray_r\")\n",
    "\n",
    "ax = fig.add_subplot(2, 3, 6)\n",
    "ax.imshow(tf.squeeze(re_re_trg[0], axis=-1), aspect=\"auto\", cmap=\"gray_r\")"
   ]
  }
 ],
 "metadata": {
  "kernelspec": {
   "display_name": "Python 3",
   "language": "python",
   "name": "python3"
  },
  "language_info": {
   "codemirror_mode": {
    "name": "ipython",
    "version": 3
   },
   "file_extension": ".py",
   "mimetype": "text/x-python",
   "name": "python",
   "nbconvert_exporter": "python",
   "pygments_lexer": "ipython3",
   "version": "3.7.4"
  }
 },
 "nbformat": 4,
 "nbformat_minor": 4
}
