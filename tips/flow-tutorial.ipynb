{
 "cells": [
  {
   "cell_type": "markdown",
   "metadata": {},
   "source": [
    "# Flow Basic"
   ]
  },
  {
   "cell_type": "markdown",
   "metadata": {},
   "source": [
    "## Flow base モデルを用いるモチベーション\n",
    "例.\n",
    "1. 尤度推定を VAE や GANs よりも \"うまく\" やりたい    \n",
    "    VAE は Reprezentation Trick などを使っているため、正確にデータから分布を移しているわけではない    \n",
    "    GANs は画像生成などの分野で高い性能を出しているが、定式化が難しい\n",
    "2. データの分布をより分析しやすい分布へ移す写像が欲しい"
   ]
  },
  {
   "cell_type": "markdown",
   "metadata": {},
   "source": [
    "## Flow base モデルが何をやっているか\n",
    "\n",
    "### ベースとなる式\n",
    "関数 $f$ と データ $x$ について、次のような **分布の** 変換 $x -> z$ が行えるものとする。    \n",
    "\n",
    "$$log p(x) = log p_z (f(x)) + log det |J(f(x))|$$    \n",
    "\n",
    "ここで $J$ とは $f(x)$ についてのヤコビアンである。    \n",
    "\n",
    "### 式の意味\n",
    "この式を用いることで、データの分布 $p(x)$ をより解析しやすい分布 $p(z)$ へ移すことができる、としている。    \n",
    "条件として、この $f(x)$ がその全単射な逆関数 $inv(f(x))$ を持つことで、一般にこのために Flow base モデルは Auto Encoder と比較して中間表現のパラメータ数は元のデータのパラメータ数と同じになる。   "
   ]
  },
  {
   "cell_type": "markdown",
   "metadata": {},
   "source": [
    "### Flow base     \n",
    "\n",
    "Flow baseと呼ばれるゆえんとしては、\n",
    "\n",
    "$x <-> h_{1} <-> h_{2} <-> \\cdots <-> z$     \n",
    "\n",
    "というように小さな変換を行う全単射な関数を Flow な形に適用してデータの分布を写すアーキテクチャが一般的なモデル図であることが挙げられる。"
   ]
  },
  {
   "cell_type": "markdown",
   "metadata": {},
   "source": [
    "### モデルの活用場面\n",
    "このモデルの使い方としては、\n",
    "\n",
    "1. データのエンコードとして、$x \\rightarrow z$ を用い、\n",
    "2. 任意の勾配を用いるなどして $z \\rightarrow z'$ を獲得し、\n",
    "3. 逆関数を通すことで $z' \\rightarrow x'$ を得る\n",
    "\n",
    "というものが挙げられる。実際 Glow や RealNVP では画像の変換の問題を解いている。"
   ]
  },
  {
   "cell_type": "markdown",
   "metadata": {},
   "source": [
    "# 問題設定\n",
    "$$p(x) \\sim N(\\mu_1., \\sigma_1)$ -> $p(z) \\sim N(\\mu_2, \\sigma_2)$$\n",
    "\n",
    "の分布の変換を行う。つまり **->** の部分を Flow base model で補完する。"
   ]
  },
  {
   "cell_type": "markdown",
   "metadata": {},
   "source": [
    "## 数式として解く\n",
    "正規分布同士の変換であるとき、次のように分布の変換関数を定義することができる。\n",
    "\n",
    "$$x = f^{-1}(z) = \\mu + \\sigma * z$$\n",
    "\n",
    "\n",
    "$z$ について求めると、\n",
    "\n",
    "$$z = \\cfrac{x - \\mu}{\\sigma}$$\n",
    "\n",
    "ヤコビアン行列の行列式(ヤコビアン)は次のようになる\n",
    "\n",
    "\n",
    "\\begin{eqnarray*}\n",
    "det|J(f^{-1}(z))| &=& det |\\cfrac{d f^{-1}}{d z}|\\\\ &=& det |\\cfrac{d (\\mu + \\sigma * z)}{d z}| \\\\\n",
    " &=& det |\\sigma|\\\\ &=& \\sigma\n",
    "\\end{eqnarray*}"
   ]
  },
  {
   "cell_type": "markdown",
   "metadata": {},
   "source": [
    "## Tensorflow を用いて解く\n",
    "この変換をFlow baseモデルを用いて解いてみる。    \n",
    "使うフレームワークは、 Tensorflow 2.0 を採用した。    \n",
    "\n",
    "Tensorflow 2.0 は Tensorflow 1.x に比べ、Eager Execution が標準で有効になっている点で大きく異なる。    \n",
    "これによって PyTorch といったフレームワークと同じように計算を実行することができるようになった。    "
   ]
  },
  {
   "cell_type": "code",
   "execution_count": 2,
   "metadata": {},
   "outputs": [
    {
     "name": "stdout",
     "output_type": "stream",
     "text": [
      "tensorflow:  2.0.0-rc0\n",
      "tensorflow-probability:  0.8.0-rc0\n"
     ]
    }
   ],
   "source": [
    "import numpy as np\n",
    "import matplotlib.pyplot as plt\n",
    "import tensorflow as tf\n",
    "import tensorflow_probability as tfp\n",
    "\n",
    "tfd = tfp.distributions\n",
    "tfb = tfp.bijectors\n",
    "\n",
    "print('tensorflow: ', tf.__version__)\n",
    "print('tensorflow-probability: ', tfp.__version__)"
   ]
  },
  {
   "cell_type": "markdown",
   "metadata": {},
   "source": [
    "Target Distribution $N (5, 5)$"
   ]
  },
  {
   "cell_type": "code",
   "execution_count": 40,
   "metadata": {},
   "outputs": [],
   "source": [
    "BATCH_SIZE = 512\n",
    "\n",
    "target_dist = tfd.Normal(loc=5., scale=5.)\n",
    "target_samples = lambda :target_dist.sample(BATCH_SIZE)"
   ]
  },
  {
   "cell_type": "code",
   "execution_count": 41,
   "metadata": {},
   "outputs": [
    {
     "data": {
      "image/png": "[encoded data removed]",
      "text/plain": [
       "<Figure size 432x288 with 1 Axes>"
      ]
     },
     "metadata": {
      "needs_background": "light"
     },
     "output_type": "display_data"
    }
   ],
   "source": [
    "def draw_data(data):\n",
    "    plt.hist(data)\n",
    "    plt.title('Values')\n",
    "    plt.xlabel('x')\n",
    "    plt.show()\n",
    "\n",
    "draw_data(target_samples())"
   ]
  },
  {
   "cell_type": "code",
   "execution_count": 208,
   "metadata": {},
   "outputs": [],
   "source": [
    "class ScaleAndShift(tfb.Bijector):\n",
    "    def __init__(\n",
    "        self, mu=0.0, sigma=0.0, validate_args: bool = False, name=\"scale_and_shift\"\n",
    "    ):\n",
    "        super(ScaleAndShift, self).__init__(\n",
    "            validate_args=validate_args, forward_min_event_ndims=0, name=name\n",
    "        )\n",
    "        self.mu = tf.Variable(mu, name=self.name + \"/mu\")\n",
    "        self.sigma = tf.Variable(sigma, name=self.name + \"/sigma\")\n",
    "\n",
    "    def _forward(self, x):\n",
    "        return x * self.sigma + self.mu\n",
    "\n",
    "    def _inverse(self, y):\n",
    "        return (y - self.mu) / self.sigma\n",
    "\n",
    "    def _inverse_log_det_jacobian(self, y):\n",
    "        # event_ndims > 0 であっても\n",
    "        # Jacobian 計算時の、畳込み (reducing) については、Bijectorは勝手に計算してくれます。\n",
    "        # 基底クラス Bijector は super. __init__ 時に引数として与えられる\n",
    "        # forward_min_event_ndims の値を見て判断をします。\n",
    "        # 例えば、\n",
    "        # element_wise 単位で影響を与える場合、 forward_min_event_ndims = 0\n",
    "        # ベクトル 単位で影響を与える場合、 forward_min_event_ndims = 1\n",
    "        # Matrix 単位で影響を与える場合、 forward_min_event_ndims = 2\n",
    "        # という風になります。\n",
    "        return -self._forward_log_det_jacobian(self._inverse(y))\n",
    "\n",
    "    def _forward_log_det_jacobian(self, x):\n",
    "        return tf.math.log(self.sigma)"
   ]
  },
  {
   "cell_type": "code",
   "execution_count": 209,
   "metadata": {},
   "outputs": [
    {
     "data": {
      "text/plain": [
       "(<tf.Variable 'scale_and_shift/mu:0' shape=() dtype=float32, numpy=1.0>,\n",
       " <tf.Variable 'scale_and_shift/sigma:0' shape=() dtype=float32, numpy=1.0>)"
      ]
     },
     "execution_count": 209,
     "metadata": {},
     "output_type": "execute_result"
    }
   ],
   "source": [
    "mu = 1.\n",
    "sigma = 1.\n",
    "scale_shift = ScaleAndShift(mu, sigma)\n",
    "scale_shift.trainable_variables"
   ]
  },
  {
   "cell_type": "markdown",
   "metadata": {},
   "source": [
    "Base Distribution: $N(0, 1)$"
   ]
  },
  {
   "cell_type": "code",
   "execution_count": 210,
   "metadata": {},
   "outputs": [
    {
     "data": {
      "text/plain": [
       "(<tf.Variable 'scale_and_shift/mu:0' shape=() dtype=float32, numpy=1.0>,\n",
       " <tf.Variable 'scale_and_shift/sigma:0' shape=() dtype=float32, numpy=1.0>)"
      ]
     },
     "execution_count": 210,
     "metadata": {},
     "output_type": "execute_result"
    }
   ],
   "source": [
    "base_dist = tfd.Normal(loc=0., scale=1.)\n",
    "\n",
    "flow = tfd.TransformedDistribution(\n",
    "    distribution=base_dist,\n",
    "    bijector=tfb.Chain(list(reversed([scale_shift])))\n",
    ")\n",
    "\n",
    "flow.trainable_variables"
   ]
  },
  {
   "cell_type": "markdown",
   "metadata": {},
   "source": [
    "学習前のサンプリング結果"
   ]
  },
  {
   "cell_type": "code",
   "execution_count": 211,
   "metadata": {},
   "outputs": [
    {
     "data": {
      "image/png": "[encoded data removed]",
      "text/plain": [
       "<Figure size 432x288 with 1 Axes>"
      ]
     },
     "metadata": {
      "needs_background": "light"
     },
     "output_type": "display_data"
    }
   ],
   "source": [
    "sample = flow.sample(10000)\n",
    "draw_data(sample)"
   ]
  },
  {
   "cell_type": "code",
   "execution_count": 212,
   "metadata": {},
   "outputs": [
    {
     "name": "stdout",
     "output_type": "stream",
     "text": [
      "(<tf.Variable 'scale_and_shift/mu:0' shape=() dtype=float32, numpy=4.8726945>, <tf.Variable 'scale_and_shift/sigma:0' shape=() dtype=float32, numpy=5.1421113>)\n"
     ]
    }
   ],
   "source": [
    "losses = []\n",
    "\n",
    "\n",
    "def loss():\n",
    "    loss = -tf.reduce_mean(flow.log_prob(target_samples()))\n",
    "    losses.append(loss)\n",
    "    return loss\n",
    "\n",
    "\n",
    "optimizer = tf.optimizers.Adam(learning_rate=0.2)\n",
    "\n",
    "\n",
    "checkpoint = tf.train.Checkpoint(\n",
    "    model=flow, optimizer=optimizer, optimizer_step=optimizer.iterations\n",
    ")\n",
    "checkpoint.restore(tf.train.latest_checkpoint(\"checkpoints\"))\n",
    "\n",
    "for i in range(10000):\n",
    "    optimizer.minimize(loss, var_list=flow.trainable_variables)\n",
    "    if i % 100 == 0:\n",
    "        checkpoint.save(os.path.join(\"checkpoints\", \"ckpt\"))\n",
    "print(flow.trainable_variables)"
   ]
  },
  {
   "cell_type": "code",
   "execution_count": 213,
   "metadata": {},
   "outputs": [
    {
     "data": {
      "image/png": "[encoded data removed]",
      "text/plain": [
       "<Figure size 432x288 with 1 Axes>"
      ]
     },
     "metadata": {
      "needs_background": "light"
     },
     "output_type": "display_data"
    }
   ],
   "source": [
    "samples = flow.sample(1024)\n",
    "draw_data(samples)"
   ]
  },
  {
   "cell_type": "code",
   "execution_count": 214,
   "metadata": {},
   "outputs": [
    {
     "data": {
      "text/plain": [
       "[<matplotlib.lines.Line2D at 0x7f19fc0c3850>]"
      ]
     },
     "execution_count": 214,
     "metadata": {},
     "output_type": "execute_result"
    },
    {
     "data": {
      "image/png": "[encoded data removed]",
      "text/plain": [
       "<Figure size 432x288 with 1 Axes>"
      ]
     },
     "metadata": {
      "needs_background": "light"
     },
     "output_type": "display_data"
    }
   ],
   "source": [
    "plt.plot(losses)"
   ]
  },
  {
   "cell_type": "code",
   "execution_count": 215,
   "metadata": {},
   "outputs": [
    {
     "data": {
      "text/plain": [
       "[<matplotlib.lines.Line2D at 0x7f1a04269690>]"
      ]
     },
     "execution_count": 215,
     "metadata": {},
     "output_type": "execute_result"
    },
    {
     "data": {
      "image/png": "[encoded data removed]",
      "text/plain": [
       "<Figure size 432x288 with 1 Axes>"
      ]
     },
     "metadata": {
      "needs_background": "light"
     },
     "output_type": "display_data"
    }
   ],
   "source": [
    "plt.plot(losses[10:200])"
   ]
  }
 ],
 "metadata": {
  "kernelspec": {
   "display_name": "Python 3",
   "language": "python",
   "name": "python3"
  },
  "language_info": {
   "codemirror_mode": {
    "name": "ipython",
    "version": 3
   },
   "file_extension": ".py",
   "mimetype": "text/x-python",
   "name": "python",
   "nbconvert_exporter": "python",
   "pygments_lexer": "ipython3",
   "version": "3.7.4"
  }
 },
 "nbformat": 4,
 "nbformat_minor": 4
}
