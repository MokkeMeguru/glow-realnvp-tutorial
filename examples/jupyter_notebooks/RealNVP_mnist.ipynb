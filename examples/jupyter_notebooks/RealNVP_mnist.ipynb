{
 "cells": [
  {
   "cell_type": "markdown",
   "metadata": {
    "colab_type": "text",
    "id": "ZrwVQsM9TiUw"
   },
   "source": [
    "##### Copyright 2019 The TensorFlow Authors.\n",
    "\n",
    "Licensed under the Apache License, Version 2.0 (the \"License\");"
   ]
  },
  {
   "cell_type": "markdown",
   "metadata": {},
   "source": [
    "##### Original code\n",
    "https://github.com/MokkeMeguru/glow-realnvp-tutorial/\n",
    "\n",
    "If you have any Problem, please let me(@MokkeMeguru) it."
   ]
  },
  {
   "cell_type": "code",
   "execution_count": 21,
   "metadata": {},
   "outputs": [],
   "source": [
    "#@title Licensed under the Apache License, Version 2.0 (the \"License\"); { display-mode: \"form\" }\n",
    "# you may not use this file except in compliance with the License.\n",
    "# You may obtain a copy of the License at\n",
    "#\n",
    "# https://www.apache.org/licenses/LICENSE-2.0\n",
    "#\n",
    "# Unless required by applicable law or agreed to in writing, software\n",
    "# distributed under the License is distributed on an \"AS IS\" BASIS,\n",
    "# WITHOUT WARRANTIES OR CONDITIONS OF ANY KIND, either express or implied.\n",
    "# See the License for the specific language governing permissions and\n",
    "# limitations under the License."
   ]
  },
  {
   "cell_type": "markdown",
   "metadata": {
    "colab_type": "text",
    "id": "ltPJCG6pAUoc"
   },
   "source": [
    "# TFP Bijector: RealNVP x MNIST\n",
    "\n",
    "<table class=\"tfo-notebook-buttons\" align=\"left\">\n",
    "  <td>\n",
    "    <a target=\"_blank\" href=\"https://colab.research.google.com/github/tensorflow/probability/blob/master/tensorflow_probability/examples/jupyter_notebooks/RealNVP_mnist.ipynb\"><img src=\"https://www.tensorflow.org/images/colab_logo_32px.png\" />Run in Google Colab</a>\n",
    "  </td>\n",
    "  <td>\n",
    "    <a target=\"_blank\" href=\"https://github.com/tensorflow/probability/blob/master/tensorflow_probability/examples/jupyter_notebooks/RealNVP_mnist.ipynb\"><img src=\"https://www.tensorflow.org/images/GitHub-Mark-32px.png\" />View source on GitHub</a>\n",
    "  </td>\n",
    "</table>"
   ]
  },
  {
   "cell_type": "markdown",
   "metadata": {
    "colab_type": "text",
    "id": "WRVR-tGTR31S"
   },
   "source": [
    "In this example we show how to build a RealNVP using TFP's \"Bijector.\""
   ]
  },
  {
   "cell_type": "markdown",
   "metadata": {},
   "source": [
    "# RealNVP x MNIST"
   ]
  },
  {
   "cell_type": "markdown",
   "metadata": {},
   "source": [
    "# Multivariate normal distribution $\\rightarrow$ MNIST\n",
    "\n",
    "| | Data Dimention|\n",
    "|----| ----|\n",
    "| Multivariate normal distribution (2) | n(2)|    \n",
    "|MNIST | 28 x 28 x 1 |\n",
    "|CIFER10| h x w x 3|\n",
    "| Text | Seq_len x Embedding_size ? |"
   ]
  },
  {
   "cell_type": "markdown",
   "metadata": {},
   "source": [
    "# RealNVP (Multi-Scale Architechture)"
   ]
  },
  {
   "cell_type": "markdown",
   "metadata": {},
   "source": [
    "## Multi-Scale Architecture\n",
    "![https://arxiv.org/abs/1410.8516](../img/multi-scale-arch.jpeg)\n",
    "\n",
    "RealNVP proposes above architecture for the efficient variable conversion."
   ]
  },
  {
   "cell_type": "markdown",
   "metadata": {},
   "source": [
    "## Squeezing\n",
    "![https://arxiv.org/abs/1410.8516](../img/squeezing.jpeg)\n",
    "\n",
    "||Dimention|\n",
    "|---|---|\n",
    "| Input | $h * w * c$ |\n",
    "| Output | $\\cfrac{h}{2} * \\cfrac{w}{2} * 4c$ |\n",
    "\n",
    "In Coupling Layer (RealNVP Bijector), Black is to be $x_a$ , White is to be $x_b$ ."
   ]
  },
  {
   "cell_type": "markdown",
   "metadata": {},
   "source": [
    "# Problem Setting\n",
    "Multivariate normal distiribution $\\leftrightarrow$ MNIST dataset"
   ]
  },
  {
   "cell_type": "markdown",
   "metadata": {},
   "source": [
    "# Use Tensorflow\n",
    "\n",
    "## Implementation Plan\n",
    "0. Preprocess\n",
    "1. Create Dataset\n",
    "2. Build Single-Scale Model\n",
    "    1. RealNVP Bijector\n",
    "    2. BatchNormalization Bijector\n",
    "    3. Permutation Bijector\n",
    "    3. Squeeze Bijector\n",
    "    4. Single-Scale Model\n",
    "3. Build Multi-Scale Model\n",
    "    1. Blockwise Bijector\n",
    "    2. Multi-Scale Model\n",
    "4. Build Model\n",
    "    1. TransformDistribution\n",
    "    2. Loss, Optimizar\n",
    "    3. Training\n",
    "    4. Inference"
   ]
  },
  {
   "cell_type": "markdown",
   "metadata": {},
   "source": [
    "## Preprocess"
   ]
  },
  {
   "cell_type": "code",
   "execution_count": 1,
   "metadata": {},
   "outputs": [
    {
     "name": "stdout",
     "output_type": "stream",
     "text": [
      "tensorflow:  2.0.0-rc0\n",
      "tensorflow-probability:  0.8.0-rc0\n"
     ]
    }
   ],
   "source": [
    "import numpy as np\n",
    "import matplotlib.pyplot as plt\n",
    "import tensorflow as tf\n",
    "import tensorflow_probability as tfp\n",
    "\n",
    "tfd = tfp.distributions\n",
    "tfb = tfp.bijectors\n",
    "\n",
    "print('tensorflow: ', tf.__version__)\n",
    "print('tensorflow-probability: ', tfp.__version__)"
   ]
  },
  {
   "cell_type": "markdown",
   "metadata": {},
   "source": [
    "## Create Dataset"
   ]
  },
  {
   "cell_type": "markdown",
   "metadata": {},
   "source": [
    "### Create Target Distribution ($z$)\n",
    "In this part, use Multivariate normal distribution"
   ]
  },
  {
   "cell_type": "code",
   "execution_count": 2,
   "metadata": {},
   "outputs": [
    {
     "name": "stdout",
     "output_type": "stream",
     "text": [
      "Tensorflow             : shape: (2, 2, 256) mean: 0.025585 sd: 1.034393\n",
      "Tensorflow Probability : shape: (2, 2, 256) mean: -0.011340 sd: 1.027189\n"
     ]
    }
   ],
   "source": [
    "# use Tensorflow's distribution\n",
    "z = tf.random.normal([2, 2, 256])\n",
    "print('Tensorflow             : shape: {} mean: {:.6f} sd: {:.6f}'.format(z.shape, tf.math.reduce_mean(z), tf.math.reduce_std(z)))\n",
    "# use Tensorflow Probability's distribution\n",
    "target_dist = tfd.Normal(loc=0., scale=1.)\n",
    "z = target_dist.sample([2, 2, 256])\n",
    "print('Tensorflow Probability : shape: {} mean: {:.6f} sd: {:.6f}'.format(z.shape, tf.math.reduce_mean(z), tf.math.reduce_std(z)))"
   ]
  },
  {
   "cell_type": "markdown",
   "metadata": {},
   "source": [
    "### Create Original Distribution (MNIST)"
   ]
  },
  {
   "cell_type": "code",
   "execution_count": 4,
   "metadata": {},
   "outputs": [
    {
     "name": "stdout",
     "output_type": "stream",
     "text": [
      "train_dataset: 60000 images\n",
      "test_dataset : 10000 images\n"
     ]
    }
   ],
   "source": [
    "(train_x, train_y), (test_x, test_y) = tf.keras.datasets.mnist.load_data()\n",
    "\n",
    "print('train_dataset: {} images'.format(len(train_x)))\n",
    "print('test_dataset : {} images'.format(len(test_x)))"
   ]
  },
  {
   "cell_type": "markdown",
   "metadata": {},
   "source": [
    "#### Check MNIST dataset"
   ]
  },
  {
   "cell_type": "code",
   "execution_count": 42,
   "metadata": {},
   "outputs": [],
   "source": [
    "SHUFFLE_BUFFER_SIZE = 1000\n",
    "BATCH_SIZE = 64\n",
    "\n",
    "@tf.function\n",
    "def _parse_function(img, label):\n",
    "    feature = {}\n",
    "    img = tf.pad(img, paddings=[[2, 2], [2, 2]], mode=\"CONSTANT\")\n",
    "    img = tf.expand_dims(img, axis=-1)\n",
    "    img = tf.reshape(img, [32, 32, 1])\n",
    "    img = tf.cast(img, dtype=tf.float32)\n",
    "    img = (img / (255.0 / 2)) - 1\n",
    "    feature['img'] = img\n",
    "    feature['label'] = label\n",
    "    return feature\n",
    "\n",
    "train_dataset_raw = tf.data.Dataset.from_tensor_slices((train_x, train_y)).map(_parse_function)\n",
    "test_dataset_raw = tf.data.Dataset.from_tensor_slices((test_x, test_y)).map(_parse_function)"
   ]
  },
  {
   "cell_type": "code",
   "execution_count": 43,
   "metadata": {},
   "outputs": [
    {
     "data": {
      "image/png": "[encoded data removed]",
      "text/plain": [
       "<Figure size 432x288 with 1 Axes>"
      ]
     },
     "metadata": {
      "needs_background": "light"
     },
     "output_type": "display_data"
    }
   ],
   "source": [
    "for image_features in train_dataset_raw.take(1):\n",
    "    plt.imshow(tf.squeeze(image_features['img'], axis=-1), cmap='gray_r')"
   ]
  },
  {
   "cell_type": "markdown",
   "metadata": {},
   "source": [
    "## Build Single-Scale Model"
   ]
  },
  {
   "cell_type": "markdown",
   "metadata": {},
   "source": [
    "### RealNVP Bijector\n",
    "\n",
    "Formula\n",
    "1. forward function\n",
    "\n",
    "\\begin{eqnarray*}\n",
    "x_a, x_b &=& split(x) \\\\\n",
    "(\\log{s}, t) &=& NN(x_b) \\\\\n",
    "s &=& exp(\\log{s}) \\\\\n",
    "y_a &=& s \\odot x_a + t \\\\\n",
    "y_b &=& x_b \\\\\n",
    "y &=& concat(y_a, y_b)\n",
    "\\end{eqnarray*}\n",
    "\n",
    "2. reverse function\n",
    "\n",
    "\\begin{eqnarray*}\n",
    "y_a, y_b &=& split(y)\\\\\n",
    "(\\log{s}, t) &=& NN(y_b)\\\\\n",
    "s &=& exp(\\log{s})\\\\\n",
    "x_a&=& (y_a - t) / s\\\\\n",
    "x_b &=& y_b\\\\\n",
    "x &=&  concat(x_a, x_b)\n",
    "\\end{eqnarray*}\n",
    "\n",
    "3. log-determinant\n",
    "\n",
    "\\begin{eqnarray*}\n",
    "sum(\\log{|s|})\n",
    "\\end{eqnarray*}"
   ]
  },
  {
   "cell_type": "markdown",
   "metadata": {},
   "source": [
    "#### NN Layer\n",
    "ref. https://github.com/openai/glow/blob/master/model.py#L420-L426 "
   ]
  },
  {
   "cell_type": "code",
   "execution_count": 21,
   "metadata": {},
   "outputs": [
    {
     "name": "stdout",
     "output_type": "stream",
     "text": [
      "Model: \"nn_test\"\n",
      "_________________________________________________________________\n",
      "Layer (type)                 Output Shape              Param #   \n",
      "=================================================================\n",
      "input_1 (InputLayer)         [(None, 16, 16, 2)]       0         \n",
      "_________________________________________________________________\n",
      "nn (NN)                      ((None, 16, 16, 2), (None 79876     \n",
      "=================================================================\n",
      "Total params: 79,876\n",
      "Trainable params: 79,876\n",
      "Non-trainable params: 0\n",
      "_________________________________________________________________\n"
     ]
    }
   ],
   "source": [
    "from tensorflow.keras.layers import Layer, BatchNormalization, ReLU, Conv2D\n",
    "from tensorflow.keras import Model\n",
    "\n",
    "\n",
    "class NN(Layer):\n",
    "    def __init__(\n",
    "        self,\n",
    "        input_shape,\n",
    "        n_hidden=[512, 512],\n",
    "        kernel_size=[[3, 3], [1, 1]],\n",
    "        strides=[[1, 1], [1, 1]],\n",
    "        activation=\"relu\",\n",
    "        name=None,\n",
    "    ):\n",
    "        if name:\n",
    "            super(NN, self).__init__(name=name)\n",
    "        else:\n",
    "            super(NN, self).__init__()\n",
    "        layer_list = []\n",
    "        for i, (hidden, kernel, stride) in enumerate(\n",
    "            zip(n_hidden, kernel_size, strides)\n",
    "        ):\n",
    "            layer_list.append(\n",
    "                Conv2D(\n",
    "                    hidden,\n",
    "                    kernel_size=kernel,\n",
    "                    strides=stride,\n",
    "                    activation=activation,\n",
    "                    padding='SAME',\n",
    "                    name=\"dense_{}_1\".format(i),\n",
    "                )\n",
    "            )\n",
    "        self.layer_list = layer_list\n",
    "        self.log_s_layer = Conv2D(\n",
    "            input_shape,\n",
    "            kernel_size=[3, 3],\n",
    "            strides=[1, 1],\n",
    "            padding='SAME',\n",
    "            kernel_initializer=\"zeros\",\n",
    "            activation=\"tanh\",\n",
    "            name=\"log_s\",\n",
    "        )\n",
    "        self.t_layer = Conv2D(\n",
    "            input_shape,\n",
    "            kernel_size=[3, 3],\n",
    "            strides=[1, 1],\n",
    "            padding='SAME',\n",
    "            kernel_initializer=\"zeros\",\n",
    "            name=\"t\",\n",
    "        )\n",
    "\n",
    "    def call(self, x):\n",
    "        y = x\n",
    "        for layer in self.layer_list:\n",
    "            y = layer(y)\n",
    "        log_s = self.log_s_layer(y)\n",
    "        t = self.t_layer(y)\n",
    "        return log_s, t\n",
    "\n",
    "\n",
    "def nn_test():\n",
    "    nn = NN(2, [256, 256])\n",
    "    x = tf.keras.Input([16, 16, 2])\n",
    "    log_s, t = nn(x)\n",
    "    # Non trainable params: -> Batch Normalization's params\n",
    "    tf.keras.Model(x, [log_s, t], name=\"nn_test\").summary()\n",
    "\n",
    "\n",
    "nn_test()"
   ]
  },
  {
   "cell_type": "markdown",
   "metadata": {},
   "source": [
    "#### RealNVP Bijector\n",
    "ref. https://github.com/openai/glow/blob/master/model.py#L367-L383"
   ]
  },
  {
   "cell_type": "code",
   "execution_count": 23,
   "metadata": {},
   "outputs": [
    {
     "name": "stdout",
     "output_type": "stream",
     "text": [
      "trainable_variables : 8\n",
      "(64, 16, 16, 4) (64, 16, 16, 4) (64,)\n"
     ]
    }
   ],
   "source": [
    "class RealNVP(tfb.Bijector):\n",
    "    def __init__(\n",
    "        self,\n",
    "        input_shape,\n",
    "        forward_min_event_ndims=3,\n",
    "        validate_args: bool = False,\n",
    "        name=\"real_nvp\",\n",
    "        n_hidden=[512, 512],\n",
    "        **kargs,\n",
    "    ):\n",
    "        \"\"\"\n",
    "        Args:\n",
    "            input_shape: \n",
    "                input_shape, \n",
    "                ex. [28, 28, 3] (image) [2] (x-y vector)\n",
    "            forward_min_event_ndims:\n",
    "                this bijector do \n",
    "                1. element-wize quantities => 0\n",
    "                2. vector-wize quantities => 1\n",
    "                3. matrix-wize quantities => 2\n",
    "                4. tensor-wize quantities => 3\n",
    "            n_hidden:\n",
    "                see. class NN\n",
    "            **kargs:\n",
    "                see. class NN\n",
    "                you can inuput NN's layers parameter here.\n",
    "        \"\"\"\n",
    "        super(RealNVP, self).__init__(\n",
    "            validate_args=validate_args,\n",
    "            forward_min_event_ndims=forward_min_event_ndims,\n",
    "            name=name,\n",
    "        )\n",
    "\n",
    "        assert input_shape[-1] % 2 == 0\n",
    "        self.input_shape = input_shape\n",
    "        nn_layer = NN(input_shape[-1] // 2, n_hidden)\n",
    "        nn_input_shape = input_shape.copy()\n",
    "        nn_input_shape[-1] = input_shape[-1] // 2\n",
    "        x = tf.keras.Input(nn_input_shape)\n",
    "        log_s, t = nn_layer(x)\n",
    "        self.nn = Model(x, [log_s, t], name=self.name + \"/nn\")\n",
    "\n",
    "    def _forward(self, x):\n",
    "        x_a, x_b = tf.split(x, 2, axis=-1)\n",
    "        y_b = x_b\n",
    "        log_s, t = self.nn(x_b)\n",
    "        s = tf.exp(log_s)\n",
    "        y_a = s * x_a + t\n",
    "        y = tf.concat([y_a, y_b], axis=-1)\n",
    "        return y\n",
    "\n",
    "    def _inverse(self, y):\n",
    "        y_a, y_b = tf.split(y, 2, axis=-1)\n",
    "        x_b = y_b\n",
    "        log_s, t = self.nn(y_b)\n",
    "        s = tf.exp(log_s)\n",
    "        x_a = (y_a - t) / s\n",
    "        x = tf.concat([x_a, x_b], axis=-1)\n",
    "        return x\n",
    "\n",
    "    def _forward_log_det_jacobian(self, x):\n",
    "        _, x_b = tf.split(x, 2, axis=-1)\n",
    "        log_s, t = self.nn(x_b)\n",
    "        return tf.reduce_sum(log_s)\n",
    "\n",
    "\n",
    "def realnvp_test():\n",
    "    realnvp = RealNVP(input_shape=[16, 16, 4], n_hidden=[256, 256])\n",
    "    x = tf.keras.Input([16, 16, 4])\n",
    "    y = realnvp.forward(x)\n",
    "    print(\"trainable_variables :\", len(realnvp.trainable_variables))\n",
    "\n",
    "    flow = tfd.TransformedDistribution(\n",
    "        event_shape=[16, 16, 4],\n",
    "        distribution=tfd.Normal(loc=0.0, scale=1.0),\n",
    "        bijector=realnvp,\n",
    "    )\n",
    "    x = flow.sample(64)\n",
    "    y = realnvp.inverse(x)\n",
    "    log_prob = flow.log_prob(y)\n",
    "    print(\n",
    "        x.shape,\n",
    "        y.shape,\n",
    "        log_prob.shape,\n",
    "    )\n",
    "\n",
    "\n",
    "realnvp_test()"
   ]
  },
  {
   "cell_type": "markdown",
   "metadata": {},
   "source": [
    "### BatchNormalization Layer\n",
    "\n",
    "ref. tensorflow_probability/bijector/BatchNormalization "
   ]
  },
  {
   "cell_type": "markdown",
   "metadata": {},
   "source": [
    "### Permutation Bijector\n",
    "Reverse by Channel dims.\n",
    "In Glow, it improve this layer to Invertible 1x1 convolution."
   ]
  },
  {
   "cell_type": "code",
   "execution_count": 24,
   "metadata": {},
   "outputs": [
    {
     "name": "stdout",
     "output_type": "stream",
     "text": [
      "tf.Tensor(-1.4077907, shape=(), dtype=float32)\n"
     ]
    },
    {
     "data": {
      "text/plain": [
       "<tf.Tensor: id=1114, shape=(), dtype=float32, numpy=0.0>"
      ]
     },
     "execution_count": 24,
     "metadata": {},
     "output_type": "execute_result"
    }
   ],
   "source": [
    "class RevPermute(tfb.Bijector):\n",
    "    def __init__(\n",
    "        self,\n",
    "        axis=[-1],\n",
    "        forward_min_event_ndims=0,\n",
    "        validate_args=False,\n",
    "        name=\"RevPermute\",\n",
    "    ):\n",
    "        super(RevPermute, self).__init__(\n",
    "            forward_min_event_ndims=forward_min_event_ndims,\n",
    "            validate_args=validate_args,\n",
    "            name=name,\n",
    "            is_constant_jacobian=True\n",
    "        )\n",
    "        self._axis = axis\n",
    "\n",
    "    @property\n",
    "    def axis(self):\n",
    "        return self._axis\n",
    "\n",
    "    def _forward(self, x):\n",
    "        return tf.reverse(x, self.axis)\n",
    "\n",
    "    def _inverse(self, y):\n",
    "        return tf.reverse(y, self.axis)\n",
    "\n",
    "    def _forward_log_det_jacobian(self, x):\n",
    "        return tf.constant(0.0, dtype=x.dtype)\n",
    "\n",
    "    def _inverse_log_det_jacobian(self, y):\n",
    "        return tf.constant(0.0, dtype=y.dtype)\n",
    "\n",
    "\n",
    "def test_revPermute():\n",
    "    revPermute = RevPermute()\n",
    "    x = tf.keras.Input([16, 16, 4])\n",
    "    y = revPermute.forward(x)\n",
    "    # tf.keras.Model(x, y).summary()\n",
    "\n",
    "    x = tf.random.normal([2, 16, 16, 4])\n",
    "    y = revPermute.forward(x)\n",
    "    z = revPermute.inverse(y)\n",
    "    flow = tfd.TransformedDistribution(distribution=target_dist, bijector=revPermute)\n",
    "    print(tf.reduce_mean(flow.log_prob(tf.random.normal([2, 16, 16, 3]))))\n",
    "    return tf.reduce_sum(z - x)\n",
    "\n",
    "\n",
    "test_revPermute()"
   ]
  },
  {
   "cell_type": "markdown",
   "metadata": {},
   "source": [
    "### Squeeze Bijector"
   ]
  },
  {
   "cell_type": "code",
   "execution_count": 26,
   "metadata": {},
   "outputs": [
    {
     "name": "stdout",
     "output_type": "stream",
     "text": [
      "tf.Tensor(0, shape=(), dtype=int32)\n",
      "(64, 16, 16, 2) (64, 8, 8, 8) (64,)\n"
     ]
    }
   ],
   "source": [
    "class Squeeze3D(tfb.Bijector):\n",
    "    def __init__(\n",
    "        self,\n",
    "        factor=2,\n",
    "        forward_min_event_ndims=0,\n",
    "        inverse_min_event_ndims=0,\n",
    "        validate_args=False,\n",
    "        name=\"Squeeze\",\n",
    "    ):\n",
    "        self._factor = factor\n",
    "        super(Squeeze3D, self).__init__(\n",
    "            forward_min_event_ndims=forward_min_event_ndims,\n",
    "            inverse_min_event_ndims=inverse_min_event_ndims,\n",
    "            name=name,\n",
    "            is_constant_jacobian=True\n",
    "        )\n",
    "\n",
    "    @property\n",
    "    def factor(self):\n",
    "        return self._factor\n",
    "\n",
    "    def _forward(self, x):\n",
    "        (H, W, C) = x.shape[1:]\n",
    "        batch_size = tf.shape(x)[0:1]\n",
    "        tmp_shape = tf.concat(\n",
    "            [\n",
    "                batch_size,\n",
    "                (H // self.factor, self.factor, W // self.factor, self.factor, C),\n",
    "            ],\n",
    "            axis=0,\n",
    "        )\n",
    "        output_shape = tf.concat(\n",
    "            [batch_size, (H // self.factor, W // self.factor, C * self.factor ** 2)],\n",
    "            axis=0,\n",
    "        )\n",
    "        y = tf.reshape(x, tmp_shape)\n",
    "        y = tf.transpose(y, [0, 1, 3, 5, 2, 4])\n",
    "        y = tf.reshape(y, output_shape)\n",
    "        return y\n",
    "\n",
    "    def _inverse(self, y):\n",
    "        (H, W, C) = y.shape[1:]\n",
    "        batch_size = tf.shape(y)[0:1]\n",
    "        tmp_shape = tf.concat(\n",
    "            [batch_size, (H, W, C // self.factor ** 2, self.factor, self.factor)], axis=0\n",
    "        )\n",
    "        output_shape = tf.concat(\n",
    "            [batch_size, (H * self.factor, W * self.factor, C // self.factor ** 2)], axis=0\n",
    "        )\n",
    "        x = tf.reshape(y, tmp_shape)\n",
    "        x = tf.transpose(x, [0, 1, 4, 2, 5, 3])\n",
    "        x = tf.reshape(x, output_shape)\n",
    "        return x\n",
    "\n",
    "    def _forward_log_det_jacobian(self, x):\n",
    "        return tf.constant(0.0, dtype=x.dtype)\n",
    "\n",
    "\n",
    "def test_squeeze3D():\n",
    "    factor = 2\n",
    "    x = tf.Variable([[[1, 2, 5, 6], [3, 4, 7, 8], [9, 10, 13, 14], [11, 12, 15, 16]]])\n",
    "    x = tf.expand_dims(x, axis=-1)\n",
    "    squeeze3d = Squeeze3D()\n",
    "    y = squeeze3d.forward(x)\n",
    "    z = squeeze3d.inverse(y)\n",
    "    print(tf.reduce_sum(x - z))\n",
    "    \n",
    "    flow = tfd.TransformedDistribution(\n",
    "        event_shape=[16, 16, 2],\n",
    "        distribution=tfd.Normal(loc=0., scale=1.),\n",
    "        bijector=squeeze3d\n",
    "    )\n",
    "    x = tf.random.normal([64, 16, 16, 2])\n",
    "    y = flow.bijector.forward(x)\n",
    "    log_prob = flow.log_prob(y)\n",
    "    print(x.shape, y.shape, log_prob.shape)\n",
    "    \n",
    "\n",
    "test_squeeze3D()"
   ]
  },
  {
   "cell_type": "markdown",
   "metadata": {},
   "source": [
    "### Single-Scale Model"
   ]
  },
  {
   "cell_type": "code",
   "execution_count": 27,
   "metadata": {},
   "outputs": [
    {
     "name": "stdout",
     "output_type": "stream",
     "text": [
      "(64,) tf.Tensor(1455.3013, shape=(), dtype=float32)\n"
     ]
    }
   ],
   "source": [
    "def gen_flow_chain(level=3):\n",
    "    flow_chain_list = []\n",
    "    for i in range(level):\n",
    "        flow_chain_list.append(Squeeze3D())\n",
    "        flow_chain_list.append(tfb.BatchNormalization())\n",
    "        flow_chain_list.append(RevPermute()),\n",
    "        flow_chain_list.append(RealNVP(input_shape=[16, 16, 4], n_hidden=[256, 256])),\n",
    "        flow_chain_list.append(tfb.Invert(Squeeze3D()))\n",
    "    return tfb.Chain(list(reversed(flow_chain_list)))  \n",
    "    \n",
    "flow_bijector = gen_flow_chain()\n",
    "\n",
    "flow = tfd.TransformedDistribution(\n",
    "    event_shape=[32, 32, 1],\n",
    "    distribution=tfd.Normal(loc=0.0, scale=1.0),\n",
    "    bijector=tfb.Invert(flow_bijector),\n",
    ")\n",
    "\n",
    "x = tf.random.normal([64, 32, 32, 1])\n",
    "log_prob = flow.log_prob(x)\n",
    "print(log_prob.shape, -tf.reduce_mean(log_prob))"
   ]
  },
  {
   "cell_type": "markdown",
   "metadata": {},
   "source": [
    "## Build Multi-Scale Model"
   ]
  },
  {
   "cell_type": "markdown",
   "metadata": {},
   "source": [
    "### Blockwise Bijector"
   ]
  },
  {
   "cell_type": "code",
   "execution_count": 44,
   "metadata": {},
   "outputs": [
    {
     "data": {
      "text/plain": [
       "<tf.Tensor: id=18997, shape=(), dtype=float32, numpy=0.0>"
      ]
     },
     "execution_count": 44,
     "metadata": {},
     "output_type": "execute_result"
    }
   ],
   "source": [
    "# ref: https://github.com/tensorflow/probability/blob/master/tensorflow_probability/python/bijectors/blockwise.py\n",
    "class Blockwise3D(tfb.Bijector):\n",
    "    def __init__(self, bijectors, block_sizes=None, validate_args=False, name=None):\n",
    "        if not name:\n",
    "            name = \"blockwise3D_of_\" + \"_and_\".join([b.name for b in bijectors])\n",
    "            name = name.replace(\"/\", \"\")\n",
    "        super(Blockwise3D, self).__init__(\n",
    "            # ???\n",
    "            forward_min_event_ndims=3,\n",
    "            validate_args=validate_args,\n",
    "            name=name,\n",
    "        )\n",
    "        self._bijectors = bijectors\n",
    "        self._block_sizes = block_sizes\n",
    "\n",
    "    @property\n",
    "    def bijectors(self):\n",
    "        return self._bijectors\n",
    "\n",
    "    @property\n",
    "    def block_sizes(self):\n",
    "        return self._block_sizes\n",
    "\n",
    "    def _forward(self, x):\n",
    "        split_x = (\n",
    "            tf.split(x, len(self.bijectors), axis=-1)\n",
    "            if self.block_sizes is None\n",
    "            else tf.split(x, self.block_sizes, axis=-1)\n",
    "        )\n",
    "        split_y = [b.forward(x_) for b, x_ in zip(self.bijectors, split_x)]\n",
    "        y = tf.concat(split_y, axis=-1)\n",
    "        return y\n",
    "\n",
    "    def _inverse(self, y):\n",
    "        split_y = (\n",
    "            tf.split(y, len(self.bijectors), axis=-1)\n",
    "            if self.block_sizes is None\n",
    "            else tf.split(y, self.block_sizes, axis=-1)\n",
    "        )\n",
    "        split_x = [b.inverse(y_) for b, y_ in zip(self.bijectors, split_y)]\n",
    "        x = tf.concat(split_x, axis=-1)\n",
    "        return x\n",
    "\n",
    "    def _forward_log_det_jacobian(self, x):\n",
    "        split_x = (\n",
    "            tf.split(x, len(self.bijectors), axis=-1)\n",
    "            if self.block_sizes is None\n",
    "            else tf.split(x, self.block_sizes, axis=-1)\n",
    "        )\n",
    "        fldjs = [\n",
    "            # ???\n",
    "            b.forward_log_det_jacobian(x_, event_ndims=3)\n",
    "            for b, x_ in zip(self.bijectors, split_x)\n",
    "        ]\n",
    "        return sum(fldjs)\n",
    "\n",
    "    def _inverse_log_det_jacobian(self, y):\n",
    "        split_y = (\n",
    "            tf.split(y, len(self.bijectors), axis=-1)\n",
    "            if self.block_sizes is None\n",
    "            else tf.split(y, self.block_sizes, axis=-1)\n",
    "        )\n",
    "        ildjs = [\n",
    "            b.inverse_log_det_jacobian(y_, event_ndims=3)\n",
    "            for b, y_ in zip(self.bijectors, split_y)\n",
    "        ]\n",
    "        return sum(ildjs)\n",
    "\n",
    "\n",
    "def test_blockwise3D():\n",
    "    blockwise3D = Blockwise3D(\n",
    "        bijectors=[\n",
    "            tfb.Identity(),\n",
    "            RealNVP(input_shape=[16, 16, 2], n_hidden=[256, 256]),\n",
    "        ]\n",
    "    )\n",
    "\n",
    "    x = tf.keras.Input([16, 16, 4])\n",
    "    y = blockwise3D.forward(x)\n",
    "    # tf.keras.Model(x, y).summary()\n",
    "\n",
    "    x = tf.random.normal([3, 16, 16, 4])\n",
    "    y = blockwise3D.forward(x)\n",
    "    z = blockwise3D.inverse(y)\n",
    "    return tf.reduce_sum(z - x)\n",
    "\n",
    "\n",
    "test_blockwise3D()"
   ]
  },
  {
   "cell_type": "markdown",
   "metadata": {},
   "source": [
    "### Multi-Scale Model\n",
    "\n",
    "For simplicity, we use below model.\n",
    "0. Squeeze $[32, 32, 1] \\rightarrow [16, 16, 4]$ \n",
    "1. Flow-step\n",
    "2. if not last Flow-step    \n",
    "    BlockWise3D \n",
    "        1. Identity\n",
    "        2. 0 へ\n",
    "3. Unsqueeze $[16, 16, 4] \\rightarrow [32, 32, 1]$"
   ]
  },
  {
   "cell_type": "markdown",
   "metadata": {},
   "source": [
    "For example, indicates the transition of L=3.    \n",
    "In below code, export RealNVP's model architecture to png file.\n",
    "\n",
    "![](../img//multi-scale-arch.png)"
   ]
  },
  {
   "cell_type": "code",
   "execution_count": 29,
   "metadata": {},
   "outputs": [
    {
     "data": {
      "text/plain": [
       "<tf.Tensor: id=3489, shape=(), dtype=float32, numpy=0.0>"
      ]
     },
     "execution_count": 29,
     "metadata": {},
     "output_type": "execute_result"
    }
   ],
   "source": [
    "def gen_flowSteps(\n",
    "    # for realnvp\n",
    "    input_shape: list,\n",
    "    n_hidden: list = [256, 256],\n",
    "    # for flowStep\n",
    "    k=2,\n",
    "    forward_min_event_ndims: int = 3,\n",
    "    validate_args: bool = False,\n",
    "    name: str = \"flow_step\",\n",
    "):\n",
    "    flow_step_list = []\n",
    "    for i in range(k):\n",
    "        flow_step_list.append(tfb.BatchNormalization(validate_args=validate_args))\n",
    "        flow_step_list.append(RevPermute(validate_args=validate_args)),\n",
    "        flow_step_list.append(\n",
    "            RealNVP(\n",
    "                input_shape=input_shape,\n",
    "                n_hidden=n_hidden,\n",
    "                validate_args=validate_args,\n",
    "                name=\"{}_{}/realnvp\".format(name, i),\n",
    "            )\n",
    "        )\n",
    "\n",
    "    flowSteps = tfb.Chain(\n",
    "        list(reversed(flow_step_list)), validate_args=validate_args, name=name\n",
    "    )\n",
    "    return flowSteps\n",
    "\n",
    "\n",
    "def test_gen_flowSteps():\n",
    "    flowSteps = gen_flowSteps(\n",
    "        k=2, input_shape=[16, 16, 4], forward_min_event_ndims=0, name=\"flowstep_0\"\n",
    "    )\n",
    "    x = tf.keras.Input([16, 16, 4])\n",
    "    y = flowSteps(x)\n",
    "    # tf.keras.Model(x, y).summary()\n",
    "\n",
    "    x = tf.random.normal([6, 16, 16, 4])\n",
    "    y = flowSteps.forward(x)\n",
    "    z = flowSteps.inverse(y)\n",
    "    return tf.reduce_sum(z - x)\n",
    "\n",
    "\n",
    "test_gen_flowSteps()"
   ]
  },
  {
   "cell_type": "code",
   "execution_count": 30,
   "metadata": {},
   "outputs": [
    {
     "name": "stdout",
     "output_type": "stream",
     "text": [
      "48\n"
     ]
    },
    {
     "data": {
      "text/plain": [
       "<tf.Tensor: id=5637, shape=(), dtype=float32, numpy=0.0>"
      ]
     },
     "execution_count": 30,
     "metadata": {},
     "output_type": "execute_result"
    }
   ],
   "source": [
    "def gen_flow(input_shape, level=3, flow_step_args: dict = None):\n",
    "    def _gen_input_shapes(input_shape, level):\n",
    "        input_shape = input_shape\n",
    "        input_shapes = []\n",
    "        for i in range(level):\n",
    "            input_shape = [\n",
    "                input_shape[0] // 2,\n",
    "                input_shape[1] // 2,\n",
    "                input_shape[2] * 4 - i * 8,\n",
    "            ]\n",
    "            input_shapes.append(input_shape)\n",
    "        return input_shapes\n",
    "\n",
    "    input_shapes = _gen_input_shapes(input_shape, level)\n",
    "\n",
    "    def _add_flow(_input_shapes, flow_step_args):\n",
    "        flow_lists = []\n",
    "        flow_lists.append(\n",
    "            Squeeze3D(name=\"Squeeze_{}\".format(level - len(_input_shapes)))\n",
    "        )\n",
    "        flowSteps = gen_flowSteps(\n",
    "           k=2,\n",
    "           input_shape=_input_shapes[0],\n",
    "           name=\"Flowsteps_{}\".format(level - len(_input_shapes)),\n",
    "        )\n",
    "        flow_lists.append(flowSteps)\n",
    "        if len(_input_shapes) != 1:\n",
    "            flow_lists.append(\n",
    "                Blockwise3D(\n",
    "                    [\n",
    "                        tfb.Identity(),\n",
    "                        tfb.Chain(\n",
    "                            list(reversed(_add_flow(_input_shapes[1:], flow_step_args)))\n",
    "                        ),\n",
    "                    ],\n",
    "                    name=\"Blockwise3D_{}\".format(level - len(_input_shapes)),\n",
    "                )\n",
    "            )\n",
    "        flow_lists.append(\n",
    "            tfb.Invert(\n",
    "                Squeeze3D(name=\"Unsqueeze_{}\".format(level - len(_input_shapes)))\n",
    "            )\n",
    "        )\n",
    "        return flow_lists\n",
    "\n",
    "    return tfb.Chain(list(reversed(_add_flow(input_shapes, level))))\n",
    "\n",
    "\n",
    "def test_gen_flow():\n",
    "    flow = gen_flow([32, 32, 1])\n",
    "    print(len(flow.trainable_variables))\n",
    "    x = tf.keras.Input([32, 32, 1])\n",
    "    y = flow.forward(x)\n",
    "    # tf.keras.Model(x, y).summary()\n",
    "    tf.keras.utils.plot_model(\n",
    "        tf.keras.Model(x, y), show_shapes=True, to_file=\"realnvp.png\"\n",
    "    )\n",
    "    x = tf.random.normal([3, 32, 32, 1])\n",
    "    y = flow.forward(x)\n",
    "    z = flow.inverse(y) \n",
    "    return tf.reduce_sum(z - x)\n",
    "\n",
    "test_gen_flow()"
   ]
  },
  {
   "cell_type": "markdown",
   "metadata": {},
   "source": [
    "## Build Model"
   ]
  },
  {
   "cell_type": "markdown",
   "metadata": {},
   "source": [
    "### TransformDistribution"
   ]
  },
  {
   "cell_type": "code",
   "execution_count": 48,
   "metadata": {},
   "outputs": [
    {
     "name": "stdout",
     "output_type": "stream",
     "text": [
      "48\n",
      "trainable_variables:  48\n"
     ]
    }
   ],
   "source": [
    "flow_bijector = gen_flow([32, 32, 1])\n",
    "print(len(flow_bijector.trainable_variables))\n",
    "flow = tfd.TransformedDistribution(\n",
    "    event_shape =[32, 32, 1],\n",
    "    distribution=tfd.Normal(loc=0.0, scale=1.0),\n",
    "    bijector=flow_bijector\n",
    ")\n",
    "print('trainable_variables: ', len(flow.bijector.trainable_variables))"
   ]
  },
  {
   "cell_type": "markdown",
   "metadata": {},
   "source": [
    "### Loss, Optimizar"
   ]
  },
  {
   "cell_type": "code",
   "execution_count": 32,
   "metadata": {},
   "outputs": [],
   "source": [
    "# !rm -r checkpoints"
   ]
  },
  {
   "cell_type": "code",
   "execution_count": 49,
   "metadata": {},
   "outputs": [],
   "source": [
    "@tf.function\n",
    "def loss():\n",
    "    return - tf.reduce_mean(flow.log_prob(targets['img']))\n",
    "\n",
    "\n",
    "optimizer = tf.optimizers.Adam(learning_rate=1e-4) \n",
    "# log = tf.summary.create_file_writer('checkpoints')\n",
    "avg_loss = tf.keras.metrics.Mean(name='loss', dtype=tf.float32)"
   ]
  },
  {
   "cell_type": "code",
   "execution_count": 50,
   "metadata": {},
   "outputs": [
    {
     "name": "stdout",
     "output_type": "stream",
     "text": [
      "(64, 32, 32, 1)\n",
      "tf.Tensor(826.2821, shape=(), dtype=float32)\n"
     ]
    }
   ],
   "source": [
    "BATCH_SIZE=64\n",
    "train_dataset = train_dataset_raw.shuffle(SHUFFLE_BUFFER_SIZE).batch(BATCH_SIZE)\n",
    "for target in train_dataset.take(1):\n",
    "    targets = target\n",
    "print(targets['img'].shape)\n",
    "with tf.GradientTape() as tape:\n",
    "    log_prob_loss = loss()\n",
    "grads = tape.gradient(log_prob_loss, flow.trainable_variables)\n",
    "print(log_prob_loss)"
   ]
  },
  {
   "cell_type": "markdown",
   "metadata": {},
   "source": [
    "### Training"
   ]
  },
  {
   "cell_type": "code",
   "execution_count": 51,
   "metadata": {},
   "outputs": [
    {
     "name": "stdout",
     "output_type": "stream",
     "text": [
      "Step <tf.Variable 'Adam/iter:0' shape=() dtype=int64, numpy=1000> Loss -113248.062500\n",
      "Step <tf.Variable 'Adam/iter:0' shape=() dtype=int64, numpy=2000> Loss -113989.187500\n",
      "Step <tf.Variable 'Adam/iter:0' shape=() dtype=int64, numpy=3000> Loss -114157.593750\n",
      "Step <tf.Variable 'Adam/iter:0' shape=() dtype=int64, numpy=4000> Loss -114258.070312\n",
      "Step <tf.Variable 'Adam/iter:0' shape=() dtype=int64, numpy=5000> Loss -114342.117188\n",
      "Step <tf.Variable 'Adam/iter:0' shape=() dtype=int64, numpy=6000> Loss -114492.078125\n",
      "Step <tf.Variable 'Adam/iter:0' shape=() dtype=int64, numpy=7000> Loss -114595.812500\n",
      "Step <tf.Variable 'Adam/iter:0' shape=() dtype=int64, numpy=8000> Loss -114729.562500\n",
      "Step <tf.Variable 'Adam/iter:0' shape=() dtype=int64, numpy=9000> Loss -114821.367188\n",
      "Step <tf.Variable 'Adam/iter:0' shape=() dtype=int64, numpy=10000> Loss -114956.937500\n",
      "Step <tf.Variable 'Adam/iter:0' shape=() dtype=int64, numpy=11000> Loss -115009.398438\n",
      "Step <tf.Variable 'Adam/iter:0' shape=() dtype=int64, numpy=12000> Loss -115156.687500\n",
      "Step <tf.Variable 'Adam/iter:0' shape=() dtype=int64, numpy=13000> Loss -115213.570312\n",
      "Step <tf.Variable 'Adam/iter:0' shape=() dtype=int64, numpy=14000> Loss -115255.046875\n",
      "Step <tf.Variable 'Adam/iter:0' shape=() dtype=int64, numpy=15000> Loss -115288.117188\n",
      "Step <tf.Variable 'Adam/iter:0' shape=() dtype=int64, numpy=16000> Loss -115313.742188\n",
      "Step <tf.Variable 'Adam/iter:0' shape=() dtype=int64, numpy=17000> Loss -115337.671875\n",
      "Step <tf.Variable 'Adam/iter:0' shape=() dtype=int64, numpy=18000> Loss -115357.023438\n",
      "Step <tf.Variable 'Adam/iter:0' shape=() dtype=int64, numpy=19000> Loss -115373.953125\n",
      "Step <tf.Variable 'Adam/iter:0' shape=() dtype=int64, numpy=20000> Loss -115389.796875\n",
      "Step <tf.Variable 'Adam/iter:0' shape=() dtype=int64, numpy=21000> Loss -115401.953125\n",
      "Step <tf.Variable 'Adam/iter:0' shape=() dtype=int64, numpy=22000> Loss -115414.968750\n",
      "Step <tf.Variable 'Adam/iter:0' shape=() dtype=int64, numpy=23000> Loss -115426.367188\n",
      "Step <tf.Variable 'Adam/iter:0' shape=() dtype=int64, numpy=24000> Loss -115438.609375\n",
      "Step <tf.Variable 'Adam/iter:0' shape=() dtype=int64, numpy=25000> Loss -115447.476562\n",
      "Step <tf.Variable 'Adam/iter:0' shape=() dtype=int64, numpy=26000> Loss -115455.203125\n",
      "Step <tf.Variable 'Adam/iter:0' shape=() dtype=int64, numpy=27000> Loss -115465.437500\n",
      "Step <tf.Variable 'Adam/iter:0' shape=() dtype=int64, numpy=28000> Loss -115473.296875\n"
     ]
    }
   ],
   "source": [
    "n_epochs = 30\n",
    "\n",
    "for epoch in range(n_epochs):\n",
    "    for targets in train_dataset:\n",
    "        with tf.GradientTape() as tape:\n",
    "            log_prob_loss = loss()\n",
    "        grads = tape.gradient(log_prob_loss, flow.trainable_variables)\n",
    "        optimizer.apply_gradients(zip(grads, flow.trainable_variables))\n",
    "        avg_loss.update_state(log_prob_loss)\n",
    "        if tf.equal(optimizer.iterations % 1000, 0):\n",
    "            print(\"Step {} Loss {:.6f}\".format(optimizer.iterations, avg_loss.result()))\n",
    "        if tf.equal(optimizer.iterations % 100, 0):\n",
    "            # with log.as_default():\n",
    "            #     tf.summary.scalar(\"loss\", avg_loss.result(), step=optimizer.iterations)\n",
    "            #     avg_loss.reset_states()\n",
    "            avg_loss.reset_states()"
   ]
  },
  {
   "cell_type": "markdown",
   "metadata": {},
   "source": [
    "### Inference"
   ]
  },
  {
   "cell_type": "code",
   "execution_count": 53,
   "metadata": {},
   "outputs": [],
   "source": [
    "test_dataset = test_dataset_raw.shuffle(SHUFFLE_BUFFER_SIZE).batch(BATCH_SIZE)"
   ]
  },
  {
   "cell_type": "code",
   "execution_count": 65,
   "metadata": {},
   "outputs": [
    {
     "name": "stdout",
     "output_type": "stream",
     "text": [
      "log probability:  -2.404663\n",
      "inv mean:  -1.7276034e-07  std:  1.7237891\n",
      "re:trg mean:  -0.79402995  std:  0.5574867\n",
      "(1, 32, 32, 1)\n"
     ]
    },
    {
     "data": {
      "text/plain": [
       "<matplotlib.image.AxesImage at 0x7f131d70c210>"
      ]
     },
     "execution_count": 65,
     "metadata": {},
     "output_type": "execute_result"
    },
    {
     "data": {
      "image/png": "[encoded data removed]",
      "text/plain": [
       "<Figure size 576x576 with 6 Axes>"
      ]
     },
     "metadata": {
      "needs_background": "light"
     },
     "output_type": "display_data"
    }
   ],
   "source": [
    "fig = plt.figure(figsize=(8, 8))\n",
    "for targets in test_dataset.take(1):\n",
    "    trg = targets[\"img\"]\n",
    "    inv = flow.bijector.inverse(trg)\n",
    "    re_trg = flow.bijector.forward(inv)\n",
    "\n",
    "print('log probability: ', tf.reduce_mean(tfd.Normal(0., 1.).log_prob(inv)).numpy())\n",
    "print(\"inv mean: \", tf.reduce_mean(inv).numpy(), \" std: \", tf.math.reduce_std(inv).numpy())\n",
    "print(\"re:trg mean: \", tf.reduce_mean(re_trg).numpy(), \" std: \", tf.math.reduce_std(re_trg).numpy())\n",
    "\n",
    "re_inv = np.array([(inv[0] + inv[1]) / 2.0])\n",
    "print(re_inv.shape)\n",
    "re_re_trg = flow.bijector.forward(re_inv)\n",
    "\n",
    "ax = fig.add_subplot(2, 3, 1)\n",
    "ax.imshow(tf.squeeze(trg[0], axis=-1), aspect=\"auto\", cmap=\"gray_r\")\n",
    "\n",
    "ax = fig.add_subplot(2, 3, 4)\n",
    "ax.imshow(tf.squeeze(re_trg[0], axis=-1), aspect=\"auto\", cmap=\"gray_r\")\n",
    "\n",
    "ax = fig.add_subplot(2, 3, 2)\n",
    "ax.imshow(tf.squeeze(trg[1], axis=-1), aspect=\"auto\", cmap=\"gray_r\")\n",
    "\n",
    "ax = fig.add_subplot(2, 3, 5)\n",
    "ax.imshow(tf.squeeze(re_trg[1], axis=-1), aspect=\"auto\", cmap=\"gray_r\")\n",
    "\n",
    "ax = fig.add_subplot(2, 3, 3)\n",
    "ax.imshow(tf.squeeze(re_inv[0], axis=-1), aspect=\"auto\", cmap=\"gray_r\")\n",
    "\n",
    "ax = fig.add_subplot(2, 3, 6)\n",
    "ax.imshow(tf.squeeze(re_re_trg[0], axis=-1), aspect=\"auto\", cmap=\"gray_r\")"
   ]
  }
 ],
 "metadata": {
  "kernelspec": {
   "display_name": "Python 3",
   "language": "python",
   "name": "python3"
  },
  "language_info": {
   "codemirror_mode": {
    "name": "ipython",
    "version": 3
   },
   "file_extension": ".py",
   "mimetype": "text/x-python",
   "name": "python",
   "nbconvert_exporter": "python",
   "pygments_lexer": "ipython3",
   "version": "3.7.4"
  }
 },
 "nbformat": 4,
 "nbformat_minor": 4
}
