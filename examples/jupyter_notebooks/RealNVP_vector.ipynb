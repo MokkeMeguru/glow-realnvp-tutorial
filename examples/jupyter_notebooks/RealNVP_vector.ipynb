{
 "cells": [
  {
   "cell_type": "markdown",
   "metadata": {
    "colab_type": "text",
    "id": "ZrwVQsM9TiUw"
   },
   "source": [
    "##### Copyright 2019 The TensorFlow Authors.\n",
    "\n",
    "Licensed under the Apache License, Version 2.0 (the \"License\");"
   ]
  },
  {
   "cell_type": "markdown",
   "metadata": {},
   "source": [
    "##### Original code\n",
    "https://github.com/MokkeMeguru/glow-realnvp-tutorial/\n",
    "\n",
    "If you have any Problem, please let me(@MokkeMeguru) it."
   ]
  },
  {
   "cell_type": "code",
   "execution_count": 1,
   "metadata": {},
   "outputs": [],
   "source": [
    "#@title Licensed under the Apache License, Version 2.0 (the \"License\"); { display-mode: \"form\" }\n",
    "# you may not use this file except in compliance with the License.\n",
    "# You may obtain a copy of the License at\n",
    "#\n",
    "# https://www.apache.org/licenses/LICENSE-2.0\n",
    "#\n",
    "# Unless required by applicable law or agreed to in writing, software\n",
    "# distributed under the License is distributed on an \"AS IS\" BASIS,\n",
    "# WITHOUT WARRANTIES OR CONDITIONS OF ANY KIND, either express or implied.\n",
    "# See the License for the specific language governing permissions and\n",
    "# limitations under the License."
   ]
  },
  {
   "cell_type": "markdown",
   "metadata": {
    "colab_type": "text",
    "id": "ltPJCG6pAUoc"
   },
   "source": [
    "# TFP Bijector: RealNVP\n",
    "\n",
    "<table class=\"tfo-notebook-buttons\" align=\"left\">\n",
    "  <td>\n",
    "    <a target=\"_blank\" href=\"https://colab.research.google.com/github/tensorflow/probability/blob/master/tensorflow_probability/examples/jupyter_notebooks/RealNVP_vector.ipynb\"><img src=\"https://www.tensorflow.org/images/colab_logo_32px.png\" />Run in Google Colab</a>\n",
    "  </td>\n",
    "  <td>\n",
    "    <a target=\"_blank\" href=\"https://github.com/tensorflow/probability/blob/master/tensorflow_probability/examples/jupyter_notebooks/RealNVP_vector.ipynb\"><img src=\"https://www.tensorflow.org/images/GitHub-Mark-32px.png\" />View source on GitHub</a>\n",
    "  </td>\n",
    "</table>"
   ]
  },
  {
   "cell_type": "markdown",
   "metadata": {
    "colab_type": "text",
    "id": "WRVR-tGTR31S"
   },
   "source": [
    "In this example we show how to build a RealNVP using TFP's \"Bijector.\""
   ]
  },
  {
   "cell_type": "markdown",
   "metadata": {
    "colab_type": "text",
    "id": "uiR4-VOt9NFX"
   },
   "source": [
    "### Dependencies & Prerequisites\n"
   ]
  },
  {
   "cell_type": "code",
   "execution_count": 6,
   "metadata": {
    "colab": {},
    "colab_type": "code",
    "id": "Cg5t0lWXGY0z"
   },
   "outputs": [
    {
     "name": "stdout",
     "output_type": "stream",
     "text": [
      "Collecting pip\n",
      "  Using cached https://files.pythonhosted.org/packages/cb/28/91f26bd088ce8e22169032100d4260614fc3da435025ff389ef1d396a433/pip-20.2.4-py2.py3-none-any.whl\n",
      "Installing collected packages: pip\n",
      "  Found existing installation: pip 19.2.3\n",
      "    Uninstalling pip-19.2.3:\n",
      "      Successfully uninstalled pip-19.2.3\n",
      "Successfully installed pip-20.2.4\n"
     ]
    }
   ],
   "source": [
    "!pip install --upgrade pip\n",
    "!pip install -q --upgrade tensorflow==2.3.1"
   ]
  },
  {
   "cell_type": "code",
   "execution_count": 7,
   "metadata": {},
   "outputs": [
    {
     "data": {
      "text/plain": [
       "'2.3.1'"
      ]
     },
     "execution_count": 7,
     "metadata": {},
     "output_type": "execute_result"
    }
   ],
   "source": [
    "import tensorflow\n",
    "tensorflow.__version__"
   ]
  },
  {
   "cell_type": "code",
   "execution_count": 9,
   "metadata": {
    "colab": {},
    "colab_type": "code",
    "id": "9clSiUTiT3G1"
   },
   "outputs": [],
   "source": [
    "!pip install -q --upgrade tensorflow-probability==0.11.1"
   ]
  },
  {
   "cell_type": "code",
   "execution_count": 8,
   "metadata": {},
   "outputs": [
    {
     "data": {
      "text/plain": [
       "'0.11.1'"
      ]
     },
     "execution_count": 8,
     "metadata": {},
     "output_type": "execute_result"
    }
   ],
   "source": [
    "import tensorflow_probability as tfp\n",
    "tfp.__version__"
   ]
  },
  {
   "cell_type": "markdown",
   "metadata": {},
   "source": [
    "## RealNVP\n",
    "Previous Study: NICE\n",
    "\n",
    "RealNVP propose more efficient Flow base Model by Multi-Scale Architecture and Coupling Layer.    \n",
    "In this part, we experiment flow-base model contains Coupling Layer."
   ]
  },
  {
   "cell_type": "markdown",
   "metadata": {},
   "source": [
    "## Coupling Layer\n",
    "\n",
    "tl;dr     \n",
    "Invertible function which scale a half of input by another one. "
   ]
  },
  {
   "cell_type": "markdown",
   "metadata": {},
   "source": [
    "### Forward\n",
    "\\begin{eqnarray*}\n",
    "x_{1:d}, x_{d+1:D} &=& split(x) \\\\\n",
    "y_{1:d}&=&x_{1:d} \\\\\n",
    "y_{d+1:D}&=&s \\odot x_{d+1:D} + t \\\\\n",
    "y &=& concat(y_{1:d}, y_{d+1:D}) \\\\\n",
    "where && \\log{s}, t = NN(x_{1:d}) \\\\\n",
    "\\end{eqnarray*}"
   ]
  },
  {
   "cell_type": "markdown",
   "metadata": {},
   "source": [
    "### Inverse\n",
    "\\begin{eqnarray*}\n",
    "y_{1:d}, y_{d+1:D} &=& split(y) \\\\\n",
    "x_{1:d}&=&y_{1:d} \\\\\n",
    "x_{d+1:D}&=& (y_{d+1:D} - t) / s \\\\\n",
    "x &=& concat(x_{1:d},x_{d+1:D}) \\\\\n",
    "where && \\log{s}, t = NN(y_{1:d}) \\\\\n",
    "\\end{eqnarray*}"
   ]
  },
  {
   "cell_type": "markdown",
   "metadata": {},
   "source": [
    "### Forward Jacobian\n",
    "\n",
    "First, calculate Jacobian Matrix\n",
    "\n",
    "\n",
    "\\begin{eqnarray*}\n",
    "\\cfrac{\\partial y}{\\partial x}\n",
    " = \n",
    "\\begin{bmatrix}\n",
    "\\frac{\\partial y_{1:d}}{\\partial x_{1:d}} & \\frac{\\partial y_{1:d}}{\\partial x_{d+1:D}} \\\\\n",
    "\\frac{\\partial y_{d+1:D}}{\\partial x_{1:d}} & \\frac{\\partial y_{d+1:D}}{\\partial x_{d+1:D}}\n",
    "\\end{bmatrix}\n",
    "=\n",
    "\\begin{bmatrix}\n",
    "\\mathbb{I}_d & 0 \\\\\n",
    "\\frac{\\partial y_{d+1:D}}{\\partial x_{1:d}} & diag(s)\n",
    "\\end{bmatrix}\n",
    "\\end{eqnarray*}\n",
    "\n",
    "Next, calculate Jacobian Determinant\n",
    "\n",
    "\\begin{eqnarray*}\n",
    "det|\\cfrac{dy}{dx}| = |J| = \\Pi{s}\n",
    "\\end{eqnarray*}\n",
    "\n",
    "for computation, we usualy use log-scaled Jacobian Determinant\n",
    "\n",
    "\\begin{eqnarray*}\n",
    "\\log{|J|} = \\Sigma{|s|}\n",
    "\\end{eqnarray*}"
   ]
  },
  {
   "cell_type": "markdown",
   "metadata": {},
   "source": [
    "### Inverse Jacobian\n",
    "\n",
    "As same as Forward Jacobian\n",
    "\n",
    "\\begin{eqnarray*}\n",
    "\\frac{\\partial x}{\\partial y}\n",
    " = \n",
    "\\begin{bmatrix}\n",
    "\\frac{\\partial x_{1:d}}{\\partial y_{1:d}} & \\frac{\\partial x_{1:d}}{\\partial y_{d+1:D}} \\\\\n",
    "\\frac{\\partial x_{d+1:D}}{\\partial y_{1:d}} & \\frac{\\partial x_{d+1:D}}{\\partial y_{d+1:D}}\n",
    "\\end{bmatrix}\n",
    "=\n",
    "\\begin{bmatrix}\n",
    "\\mathbb{I}_d & 0 \\\\\n",
    "\\frac{\\partial x_{d+1:D}}{\\partial y_{1:d}} & diag(\\frac{1}{s})\n",
    "\\end{bmatrix}\n",
    "\\end{eqnarray*}\n",
    "\n",
    "\n",
    "\\begin{eqnarray*}\n",
    "\\log{|J'|} = - \\Sigma{|s|}\n",
    "\\end{eqnarray*}"
   ]
  },
  {
   "cell_type": "markdown",
   "metadata": {},
   "source": [
    "## Problem Setting\n",
    "Double Moon Distribution $\\leftrightarrow$ Multivariate normal Distribution\n",
    "\n",
    "data example = $[x, y]$ = $[0.1, -0.5]$"
   ]
  },
  {
   "cell_type": "markdown",
   "metadata": {},
   "source": [
    "# Import Tensorflow"
   ]
  },
  {
   "cell_type": "code",
   "execution_count": 11,
   "metadata": {},
   "outputs": [
    {
     "name": "stdout",
     "output_type": "stream",
     "text": [
      "tensorflow:  2.3.1\n",
      "tensorflow-probability:  0.11.1\n"
     ]
    }
   ],
   "source": [
    "import numpy as np\n",
    "import matplotlib.pyplot as plt\n",
    "import tensorflow as tf\n",
    "import tensorflow_probability as tfp\n",
    "\n",
    "tfd = tfp.distributions\n",
    "tfb = tfp.bijectors\n",
    "\n",
    "print('tensorflow: ', tf.__version__)\n",
    "print('tensorflow-probability: ', tfp.__version__)"
   ]
  },
  {
   "cell_type": "markdown",
   "metadata": {},
   "source": [
    "# Base Distribution"
   ]
  },
  {
   "cell_type": "code",
   "execution_count": 12,
   "metadata": {},
   "outputs": [
    {
     "data": {
      "text/plain": [
       "<matplotlib.collections.PathCollection at 0x7ff959615ad0>"
      ]
     },
     "execution_count": 12,
     "metadata": {},
     "output_type": "execute_result"
    },
    {
     "data": {
      "image/png": "[encoded data removed]",
      "text/plain": [
       "<Figure size 360x360 with 1 Axes>"
      ]
     },
     "metadata": {
      "needs_background": "light"
     },
     "output_type": "display_data"
    }
   ],
   "source": [
    "mvn = tfd.MultivariateNormalDiag(loc=[0., 0.], scale_diag=[1., 1.])\n",
    "mvn_samples = mvn.sample(5000)\n",
    "plt.figure(figsize=(5,5))\n",
    "plt.xlim([-4, 4])\n",
    "plt.ylim([-4, 4])\n",
    "plt.scatter(mvn_samples[:, 0], mvn_samples[:, 1], s=15)"
   ]
  },
  {
   "cell_type": "markdown",
   "metadata": {},
   "source": [
    "# Target Distribution"
   ]
  },
  {
   "cell_type": "code",
   "execution_count": 13,
   "metadata": {},
   "outputs": [
    {
     "data": {
      "text/plain": [
       "<matplotlib.collections.PathCollection at 0x7ff90033dcd0>"
      ]
     },
     "execution_count": 13,
     "metadata": {},
     "output_type": "execute_result"
    },
    {
     "data": {
      "image/png": "[encoded data removed]",
      "text/plain": [
       "<Figure size 360x360 with 1 Axes>"
      ]
     },
     "metadata": {
      "needs_background": "light"
     },
     "output_type": "display_data"
    }
   ],
   "source": [
    "def gen_double_moon_samples(num_samples):\n",
    "    assert num_samples % 2 == 0, \"[Requirement] num_samples % 2 == 0\"\n",
    "    x1_1 = tfd.Normal(loc=4.0, scale=4.0)\n",
    "    x1_1_samples = x1_1.sample(num_samples // 2)\n",
    "    x1_2 = tfd.Normal(\n",
    "        loc=0.25 * (x1_1_samples - 4) ** 2 - 20, \n",
    "        scale=tf.ones_like(num_samples / 2) * 2\n",
    "    )\n",
    "    x1_2_samples = x1_2.sample()\n",
    "\n",
    "    x2_1 = tfd.Normal(loc=4.0, scale=4.0)\n",
    "    x2_1_samples = x2_1.sample(num_samples // 2)\n",
    "    x2_2 = tfd.Normal(\n",
    "        loc=-0.25 * (x2_1_samples - 4) ** 2 + 20,\n",
    "        scale=tf.ones_like(num_samples / 2) * 2,\n",
    "    )\n",
    "    x2_2_samples = x2_2.sample()\n",
    "    \n",
    "    x1_samples = tf.stack([x1_1_samples * 0.2, x1_2_samples * 0.1], axis=1)\n",
    "    x2_samples = tf.stack([x2_1_samples * 0.2 - 2, x2_2_samples * 0.1], axis=1)\n",
    "\n",
    "    x_samples = tf.concat([x1_samples, x2_samples], axis=0)\n",
    "    return x_samples\n",
    "\n",
    "\n",
    "base_samples = gen_double_moon_samples(50000)\n",
    "base_samples = tf.random.shuffle(base_samples)\n",
    "\n",
    "plt.figure(figsize=(5, 5))\n",
    "plt.xlim([-4, 4])\n",
    "plt.ylim([-4, 4])\n",
    "plt.scatter(base_samples[:, 0], base_samples[:, 1], s=15)"
   ]
  },
  {
   "cell_type": "markdown",
   "metadata": {},
   "source": [
    "# Create Dataset"
   ]
  },
  {
   "cell_type": "code",
   "execution_count": 14,
   "metadata": {},
   "outputs": [
    {
     "name": "stdout",
     "output_type": "stream",
     "text": [
      "data samples:  10000\n"
     ]
    },
    {
     "data": {
      "image/png": "[encoded data removed]",
      "text/plain": [
       "<Figure size 360x360 with 1 Axes>"
      ]
     },
     "metadata": {
      "needs_background": "light"
     },
     "output_type": "display_data"
    }
   ],
   "source": [
    "SHUFFLE_BUFFER_SIZE = 10000\n",
    "BATCH_SIZE = 10000\n",
    "train_dataset = (\n",
    "    tf.data.Dataset.from_tensor_slices(base_samples)\n",
    "    .shuffle(SHUFFLE_BUFFER_SIZE)\n",
    "    .batch(BATCH_SIZE)\n",
    ")\n",
    "\n",
    "for i in train_dataset.take(1):\n",
    "    print('data samples: ', len(i))\n",
    "    plt.figure(figsize=(5, 5))\n",
    "    plt.xlim([-4, 4])\n",
    "    plt.ylim([-4, 4])\n",
    "    plt.scatter(i[:, 0], i[:, 1], s=15)"
   ]
  },
  {
   "cell_type": "markdown",
   "metadata": {},
   "source": [
    "# NN Layer"
   ]
  },
  {
   "cell_type": "code",
   "execution_count": 15,
   "metadata": {},
   "outputs": [
    {
     "name": "stdout",
     "output_type": "stream",
     "text": [
      "Model: \"nn_test\"\n",
      "_________________________________________________________________\n",
      "Layer (type)                 Output Shape              Param #   \n",
      "=================================================================\n",
      "input_1 (InputLayer)         [(None, 1)]               0         \n",
      "_________________________________________________________________\n",
      "nn (NN)                      ((None, 1), (None, 1))    790018    \n",
      "=================================================================\n",
      "Total params: 790,018\n",
      "Trainable params: 790,018\n",
      "Non-trainable params: 0\n",
      "_________________________________________________________________\n"
     ]
    }
   ],
   "source": [
    "from tensorflow.keras.layers import Layer, Dense, BatchNormalization, ReLU\n",
    "from tensorflow.keras import Model\n",
    "\n",
    "\n",
    "class NN(Layer):\n",
    "    def __init__(self, input_shape, n_hidden=[512, 512], activation=\"relu\", name=\"nn\"):\n",
    "        super(NN, self).__init__(name=\"nn\")\n",
    "        layer_list = []\n",
    "        for i, hidden in enumerate(n_hidden):\n",
    "            layer_list.append(Dense(hidden, activation=activation, name='dense_{}_1'.format(i)))\n",
    "            layer_list.append(Dense(hidden, activation=activation, name='dense_{}_2'.format(i)))\n",
    "        self.layer_list = layer_list\n",
    "        self.log_s_layer = Dense(input_shape, activation=\"tanh\", name='log_s')\n",
    "        self.t_layer = Dense(input_shape, name='t')\n",
    "\n",
    "    def call(self, x):\n",
    "        y = x\n",
    "        for layer in self.layer_list:\n",
    "            y = layer(y)\n",
    "        log_s = self.log_s_layer(y)\n",
    "        t = self.t_layer(y)\n",
    "        return log_s, t\n",
    "\n",
    "\n",
    "def nn_test():\n",
    "    nn = NN(1, [512, 512])\n",
    "    x = tf.keras.Input([1])\n",
    "    log_s, t = nn(x)\n",
    "    # Non trainable params: -> Batch Normalization's params\n",
    "    tf.keras.Model(x, [log_s, t], name=\"nn_test\").summary()\n",
    "nn_test()"
   ]
  },
  {
   "cell_type": "markdown",
   "metadata": {},
   "source": [
    "# RealNVP Biector Layer"
   ]
  },
  {
   "cell_type": "code",
   "execution_count": 16,
   "metadata": {},
   "outputs": [
    {
     "name": "stdout",
     "output_type": "stream",
     "text": [
      "trainable_variables : 12\n",
      "Model: \"realnvp_test\"\n",
      "__________________________________________________________________________________________________\n",
      "Layer (type)                    Output Shape         Param #     Connected to                     \n",
      "==================================================================================================\n",
      "input_3 (InputLayer)            [(None, 2)]          0                                            \n",
      "__________________________________________________________________________________________________\n",
      "tf_op_layer_split (TensorFlowOp [(None, 1), (None, 1 0           input_3[0][0]                    \n",
      "__________________________________________________________________________________________________\n",
      "nn (Functional)                 [(None, 1), (None, 1 790018      tf_op_layer_split[0][1]          \n",
      "__________________________________________________________________________________________________\n",
      "tf_op_layer_Exp (TensorFlowOpLa [(None, 1)]          0           nn[0][0]                         \n",
      "__________________________________________________________________________________________________\n",
      "tf_op_layer_Mul (TensorFlowOpLa [(None, 1)]          0           tf_op_layer_Exp[0][0]            \n",
      "                                                                 tf_op_layer_split[0][0]          \n",
      "__________________________________________________________________________________________________\n",
      "tf_op_layer_AddV2 (TensorFlowOp [(None, 1)]          0           tf_op_layer_Mul[0][0]            \n",
      "                                                                 nn[0][1]                         \n",
      "__________________________________________________________________________________________________\n",
      "tf_op_layer_concat (TensorFlowO [(None, 2)]          0           tf_op_layer_AddV2[0][0]          \n",
      "                                                                 tf_op_layer_split[0][1]          \n",
      "==================================================================================================\n",
      "Total params: 790,018\n",
      "Trainable params: 790,018\n",
      "Non-trainable params: 0\n",
      "__________________________________________________________________________________________________\n"
     ]
    }
   ],
   "source": [
    "class RealNVP(tfb.Bijector):\n",
    "    def __init__(\n",
    "        self,\n",
    "        input_shape,\n",
    "        n_hidden=[512, 512],\n",
    "        # this bijector do vector wise quantities.\n",
    "        forward_min_event_ndims=1,\n",
    "        validate_args: bool = False,\n",
    "        name=\"real_nvp\",\n",
    "    ):\n",
    "        \"\"\"\n",
    "        Args:\n",
    "            input_shape: \n",
    "                input_shape, \n",
    "                ex. [28, 28, 3] (image) [2] (x-y vector)\n",
    "                          \n",
    "        \"\"\"\n",
    "        super(RealNVP, self).__init__(\n",
    "            validate_args=validate_args, forward_min_event_ndims=forward_min_event_ndims, name=name\n",
    "        )\n",
    "\n",
    "        assert input_shape[-1] % 2 == 0\n",
    "        self.input_shape = input_shape\n",
    "        nn_layer = NN(input_shape[-1] // 2, n_hidden)\n",
    "        nn_input_shape = input_shape.copy()\n",
    "        nn_input_shape[-1] = input_shape[-1] // 2\n",
    "        x = tf.keras.Input(nn_input_shape)\n",
    "        log_s, t = nn_layer(x)\n",
    "        self.nn = Model(x, [log_s, t], name=\"nn\")\n",
    "\n",
    "    def _forward(self, x):\n",
    "        x_a, x_b = tf.split(x, 2, axis=-1)\n",
    "        y_b = x_b\n",
    "        log_s, t = self.nn(x_b)\n",
    "        s = tf.exp(log_s)\n",
    "        y_a = s * x_a + t\n",
    "        y = tf.concat([y_a, y_b], axis=-1)\n",
    "        return y\n",
    "\n",
    "    def _inverse(self, y):\n",
    "        y_a, y_b = tf.split(y, 2, axis=-1)\n",
    "        x_b = y_b\n",
    "        log_s, t = self.nn(y_b)\n",
    "        s = tf.exp(log_s)\n",
    "        x_a = (y_a - t) / s\n",
    "        x = tf.concat([x_a, x_b], axis=-1)\n",
    "        return x\n",
    "\n",
    "    def _forward_log_det_jacobian(self, x):\n",
    "        _, x_b = tf.split(x, 2, axis=-1)\n",
    "        log_s, t = self.nn(x_b)\n",
    "        return log_s\n",
    "\n",
    "\n",
    "def realnvp_test():\n",
    "    realnvp = RealNVP(input_shape=[2], n_hidden=[512, 512])\n",
    "    x = tf.keras.Input([2])\n",
    "    y = realnvp.forward(x)\n",
    "    print('trainable_variables :', len(realnvp.trainable_variables))\n",
    "    Model(x, y, name=\"realnvp_test\").summary()\n",
    "\n",
    "\n",
    "realnvp_test()"
   ]
  },
  {
   "cell_type": "markdown",
   "metadata": {},
   "source": [
    "# TransformDistribution"
   ]
  },
  {
   "cell_type": "code",
   "execution_count": 17,
   "metadata": {},
   "outputs": [
    {
     "name": "stdout",
     "output_type": "stream",
     "text": [
      "trainable_variables:  48\n"
     ]
    }
   ],
   "source": [
    "num_realnvp = 4\n",
    "bijector_chain = []\n",
    "for i in range(num_realnvp):\n",
    "    bijector_chain.append(RealNVP(input_shape=[2], n_hidden=[256, 256]))\n",
    "    bijector_chain.append(tfp.bijectors.Permute([1, 0]))\n",
    "\n",
    "flow = tfd.TransformedDistribution(\n",
    "    distribution=mvn,\n",
    "    bijector=tfb.Chain(list(reversed(bijector_chain)))\n",
    ")\n",
    "print('trainable_variables: ', len(flow.bijector.trainable_variables))"
   ]
  },
  {
   "cell_type": "markdown",
   "metadata": {},
   "source": [
    "# Test Pretrained Model"
   ]
  },
  {
   "cell_type": "code",
   "execution_count": 18,
   "metadata": {},
   "outputs": [
    {
     "data": {
      "text/plain": [
       "<matplotlib.collections.PathCollection at 0x7ff8b03e3fd0>"
      ]
     },
     "execution_count": 18,
     "metadata": {},
     "output_type": "execute_result"
    },
    {
     "data": {
      "image/png": "[encoded data removed]",
      "text/plain": [
       "<Figure size 360x360 with 1 Axes>"
      ]
     },
     "metadata": {
      "needs_background": "light"
     },
     "output_type": "display_data"
    }
   ],
   "source": [
    "samples = flow.sample(10000)\n",
    "plt.figure(figsize=(5, 5))\n",
    "plt.xlim([-4, 4])\n",
    "plt.ylim([-4, 4])\n",
    "plt.scatter(samples[:, 0], samples[:, 1], s=15)"
   ]
  },
  {
   "cell_type": "code",
   "execution_count": 19,
   "metadata": {},
   "outputs": [
    {
     "name": "stdout",
     "output_type": "stream",
     "text": [
      "tf.Tensor(24.002918, shape=(), dtype=float32)\n",
      "tf.Tensor(-4.3142514, shape=(), dtype=float32)\n",
      "(10000, 10000)\n"
     ]
    },
    {
     "data": {
      "text/plain": [
       "<matplotlib.collections.PathCollection at 0x7ff8b03737d0>"
      ]
     },
     "execution_count": 19,
     "metadata": {},
     "output_type": "execute_result"
    },
    {
     "data": {
      "image/png": "[encoded data removed]",
      "text/plain": [
       "<Figure size 432x288 with 1 Axes>"
      ]
     },
     "metadata": {
      "needs_background": "light"
     },
     "output_type": "display_data"
    }
   ],
   "source": [
    "for targets in train_dataset.take(1):\n",
    "    targets = targets\n",
    "#print(flow.bijector.inverse(targets))\n",
    "print(tf.reduce_sum(flow.bijector.inverse_log_det_jacobian(targets, event_ndims=1)))\n",
    "res = flow.bijector.inverse(targets)\n",
    "print(tf.reduce_mean(flow.log_prob(res)))\n",
    "print(flow.log_prob(res).shape)\n",
    "targets.shape\n",
    "plt.scatter(targets[:,0], targets[:,1])\n",
    "plt.scatter(res[:, 0], res[:,1])"
   ]
  },
  {
   "cell_type": "markdown",
   "metadata": {},
   "source": [
    "# Training"
   ]
  },
  {
   "cell_type": "code",
   "execution_count": 20,
   "metadata": {},
   "outputs": [],
   "source": [
    "# !rm -r checkpoints"
   ]
  },
  {
   "cell_type": "code",
   "execution_count": 21,
   "metadata": {},
   "outputs": [],
   "source": [
    "@tf.function\n",
    "def loss(targets):\n",
    "    return - tf.reduce_mean(flow.log_prob(targets))\n",
    "\n",
    "\n",
    "optimizer = tf.optimizers.Adam(learning_rate=1e-4) \n",
    "# log is logger which can watch training via TensorBoard\n",
    "# log = tf.summary.create_file_writer('checkpoints')\n",
    "avg_loss = tf.keras.metrics.Mean(name='loss', dtype=tf.float32)"
   ]
  },
  {
   "cell_type": "code",
   "execution_count": 22,
   "metadata": {},
   "outputs": [
    {
     "name": "stdout",
     "output_type": "stream",
     "text": [
      "Step <tf.Variable 'Adam/iter:0' shape=() dtype=int64, numpy=100> Loss 3.235301\n",
      "Step <tf.Variable 'Adam/iter:0' shape=() dtype=int64, numpy=200> Loss 2.463723\n",
      "Step <tf.Variable 'Adam/iter:0' shape=() dtype=int64, numpy=300> Loss 1.905779\n",
      "Step <tf.Variable 'Adam/iter:0' shape=() dtype=int64, numpy=400> Loss 1.780130\n",
      "Step <tf.Variable 'Adam/iter:0' shape=() dtype=int64, numpy=500> Loss 1.754054\n",
      "Step <tf.Variable 'Adam/iter:0' shape=() dtype=int64, numpy=600> Loss 1.743935\n",
      "Step <tf.Variable 'Adam/iter:0' shape=() dtype=int64, numpy=700> Loss 1.739649\n",
      "Step <tf.Variable 'Adam/iter:0' shape=() dtype=int64, numpy=800> Loss 1.734782\n",
      "Step <tf.Variable 'Adam/iter:0' shape=() dtype=int64, numpy=900> Loss 1.729304\n",
      "Step <tf.Variable 'Adam/iter:0' shape=() dtype=int64, numpy=1000> Loss 1.725932\n",
      "Step <tf.Variable 'Adam/iter:0' shape=() dtype=int64, numpy=1100> Loss 1.723466\n",
      "Step <tf.Variable 'Adam/iter:0' shape=() dtype=int64, numpy=1200> Loss 1.721536\n",
      "Step <tf.Variable 'Adam/iter:0' shape=() dtype=int64, numpy=1300> Loss 1.720369\n",
      "Step <tf.Variable 'Adam/iter:0' shape=() dtype=int64, numpy=1400> Loss 1.717921\n",
      "Step <tf.Variable 'Adam/iter:0' shape=() dtype=int64, numpy=1500> Loss 1.717310\n"
     ]
    }
   ],
   "source": [
    "n_epochs = 300\n",
    "\n",
    "for epoch in range(n_epochs):\n",
    "    for targets in train_dataset:\n",
    "        with tf.GradientTape() as tape:\n",
    "            log_prob_loss = loss(targets)\n",
    "        grads = tape.gradient(log_prob_loss, flow.trainable_variables)\n",
    "        optimizer.apply_gradients(zip(grads, flow.trainable_variables))\n",
    "        avg_loss.update_state(log_prob_loss)\n",
    "        if tf.equal(optimizer.iterations % 100, 0):\n",
    "            # with log.as_default():\n",
    "            #     tf.summary.scalar(\"loss\", avg_loss.result(), step=optimizer.iterations)\n",
    "            #     print(\n",
    "            #          \"Step {} Loss {:.6f}\".format(\n",
    "            #              optimizer.iterations, avg_loss.result()\n",
    "            #          )\n",
    "            #      )\n",
    "            #      avg_loss.reset_states()\n",
    "            print(\"Step {} Loss {:.6f}\".format(optimizer.iterations, avg_loss.result()))\n",
    "            avg_loss.reset_states()"
   ]
  },
  {
   "cell_type": "markdown",
   "metadata": {},
   "source": [
    "# Inference"
   ]
  },
  {
   "cell_type": "code",
   "execution_count": 23,
   "metadata": {},
   "outputs": [
    {
     "data": {
      "text/plain": [
       "<matplotlib.collections.PathCollection at 0x7ff8684ace50>"
      ]
     },
     "execution_count": 23,
     "metadata": {},
     "output_type": "execute_result"
    },
    {
     "data": {
      "image/png": "[encoded data removed]",
      "text/plain": [
       "<Figure size 432x288 with 1 Axes>"
      ]
     },
     "metadata": {
      "needs_background": "light"
     },
     "output_type": "display_data"
    }
   ],
   "source": [
    "base = flow.distribution.sample(10000)\n",
    "targets = flow.sample(10000)\n",
    "plt.scatter(base[:, 0], base[:, 1], s=15)\n",
    "plt.scatter(targets[:, 0], targets[:, 1], s=15)"
   ]
  },
  {
   "cell_type": "code",
   "execution_count": 25,
   "metadata": {},
   "outputs": [
    {
     "data": {
      "text/plain": [
       "<matplotlib.collections.PathCollection at 0x7ff868410cd0>"
      ]
     },
     "execution_count": 25,
     "metadata": {},
     "output_type": "execute_result"
    },
    {
     "data": {
      "image/png": "[encoded data removed]",
      "text/plain": [
       "<Figure size 432x288 with 1 Axes>"
      ]
     },
     "metadata": {
      "needs_background": "light"
     },
     "output_type": "display_data"
    }
   ],
   "source": [
    "targets = gen_double_moon_samples(10000)\n",
    "base = flow.bijector.inverse(targets)\n",
    "targets.shape\n",
    "plt.scatter(base[:, 0], base[:,1], s=15)\n",
    "plt.scatter(targets[:,0], targets[:,1], s=15)"
   ]
  }
 ],
 "metadata": {
  "kernelspec": {
   "display_name": "Python 3",
   "language": "python",
   "name": "python3"
  },
  "language_info": {
   "codemirror_mode": {
    "name": "ipython",
    "version": 3
   },
   "file_extension": ".py",
   "mimetype": "text/x-python",
   "name": "python",
   "nbconvert_exporter": "python",
   "pygments_lexer": "ipython3",
   "version": "3.7.7"
  }
 },
 "nbformat": 4,
 "nbformat_minor": 4
}
