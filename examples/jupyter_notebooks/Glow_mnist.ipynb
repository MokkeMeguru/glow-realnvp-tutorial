{
 "cells": [
  {
   "cell_type": "markdown",
   "metadata": {
    "colab_type": "text",
    "id": "ZrwVQsM9TiUw"
   },
   "source": [
    "##### Copyright 2019 The TensorFlow Authors.\n",
    "\n",
    "Licensed under the Apache License, Version 2.0 (the \"License\");"
   ]
  },
  {
   "cell_type": "markdown",
   "metadata": {},
   "source": [
    "##### Original code\n",
    "https://github.com/MokkeMeguru/glow-realnvp-tutorial/\n",
    "\n",
    "If you have any Problem, please let me(@MokkeMeguru) it."
   ]
  },
  {
   "cell_type": "code",
   "execution_count": 21,
   "metadata": {},
   "outputs": [],
   "source": [
    "#@title Licensed under the Apache License, Version 2.0 (the \"License\"); { display-mode: \"form\" }\n",
    "# you may not use this file except in compliance with the License.\n",
    "# You may obtain a copy of the License at\n",
    "#\n",
    "# https://www.apache.org/licenses/LICENSE-2.0\n",
    "#\n",
    "# Unless required by applicable law or agreed to in writing, software\n",
    "# distributed under the License is distributed on an \"AS IS\" BASIS,\n",
    "# WITHOUT WARRANTIES OR CONDITIONS OF ANY KIND, either express or implied.\n",
    "# See the License for the specific language governing permissions and\n",
    "# limitations under the License."
   ]
  },
  {
   "cell_type": "markdown",
   "metadata": {
    "colab_type": "text",
    "id": "ltPJCG6pAUoc"
   },
   "source": [
    "# TFP Bijector: Glow x MNIST\n",
    "\n",
    "<table class=\"tfo-notebook-buttons\" align=\"left\">\n",
    "  <td>\n",
    "    <a target=\"_blank\" href=\"https://colab.research.google.com/github/tensorflow/probability/blob/master/tensorflow_probability/examples/jupyter_notebooks/glow_mnist.ipynb\"><img src=\"https://www.tensorflow.org/images/colab_logo_32px.png\" />Run in Google Colab</a>\n",
    "  </td>\n",
    "  <td>\n",
    "    <a target=\"_blank\" href=\"https://github.com/tensorflow/probability/blob/master/tensorflow_probability/examples/jupyter_notebooks/glow_mnist.ipynb\"><img src=\"https://www.tensorflow.org/images/GitHub-Mark-32px.png\" />View source on GitHub</a>\n",
    "  </td>\n",
    "</table>"
   ]
  },
  {
   "cell_type": "markdown",
   "metadata": {
    "colab_type": "text",
    "id": "WRVR-tGTR31S"
   },
   "source": [
    "In this example we show how to build a Glow using TFP's \"Bijector.\""
   ]
  },
  {
   "cell_type": "markdown",
   "metadata": {},
   "source": [
    "# Glow"
   ]
  },
  {
   "cell_type": "markdown",
   "metadata": {},
   "source": [
    "Difference from RealNVP \n",
    "\n",
    "- Invertible 1x1 convolution\n",
    "- Actnorm"
   ]
  },
  {
   "cell_type": "markdown",
   "metadata": {},
   "source": [
    "## Invertible 1x1 convolution\n",
    "\n",
    "RealNVP uses Permutation by the channel dimention for Affine Coupling Layer. (Intuitively、we want to replace $x_a$ and $x_b$, I think...)\n",
    "\n",
    "In Glow, the Permutaion is changed to the Invertible 1x1 convolution he proposed. It's a learnable layer (bijector).\n",
    "\n",
    "formula\n",
    "\n",
    "1. forward function\n",
    "2. reverse function\n",
    "3. log determinant"
   ]
  },
  {
   "cell_type": "markdown",
   "metadata": {},
   "source": [
    "## Actnorm\n",
    "Instead of Batch Normalization\n",
    "\n",
    "Week points of Batch Normalization\n",
    "1. IF batch size is small, it may decrease performance. (In flow base model, Batch size is often too small since this model needs large memory...)\n",
    "\n",
    "\n",
    "Behavior of Actnorm\n",
    "1. normalize by **channel-wise** , using the **first batch**\n",
    "2. initialize weights by the normalize parameter. (bias and scale)\n",
    "3. learn these weights since next batch."
   ]
  },
  {
   "cell_type": "markdown",
   "metadata": {},
   "source": [
    "# Problem Setting\n",
    "Multivariate normal distribution $\\leftrightarrow$ MNIST dataset"
   ]
  },
  {
   "cell_type": "markdown",
   "metadata": {},
   "source": [
    "# Use Tensorflow\n",
    "## Implementation Plan\n",
    "0. Preprocess\n",
    "1. Create Dataset\n",
    "2. Build Multi-Scale Model\n",
    "    1. Invertible 1x1 convolution Bijector\n",
    "    2. Actnorm Bijector\n",
    "    3. Multi-Scale Model\n",
    "4. Build Model\n",
    "    1. TransformDistribution\n",
    "    2. Loss, Optimizar\n",
    "    3. Training\n",
    "    4. Inference"
   ]
  },
  {
   "cell_type": "markdown",
   "metadata": {},
   "source": [
    "## Preprocess"
   ]
  },
  {
   "cell_type": "code",
   "execution_count": 17,
   "metadata": {},
   "outputs": [
    {
     "name": "stdout",
     "output_type": "stream",
     "text": [
      "tensorflow:  2.0.0-rc0\n",
      "tensorflow-probability:  0.8.0-rc0\n"
     ]
    }
   ],
   "source": [
    "import numpy as np\n",
    "import matplotlib.pyplot as plt\n",
    "import tensorflow as tf\n",
    "import tensorflow_probability as tfp\n",
    "from tensorflow.keras import Model\n",
    "\n",
    "tfd = tfp.distributions\n",
    "tfb = tfp.bijectors\n",
    "\n",
    "print('tensorflow: ', tf.__version__)\n",
    "print('tensorflow-probability: ', tfp.__version__)"
   ]
  },
  {
   "cell_type": "markdown",
   "metadata": {},
   "source": [
    "## Create Dataset\n",
    "ref. [realnvp's tutorial](./RealNVP_mnist_en.ipynb)"
   ]
  },
  {
   "cell_type": "markdown",
   "metadata": {},
   "source": [
    "### Create Target Distibution ($z$)\n",
    "In this part, use Multivariate normal distribution"
   ]
  },
  {
   "cell_type": "code",
   "execution_count": 2,
   "metadata": {},
   "outputs": [
    {
     "name": "stdout",
     "output_type": "stream",
     "text": [
      "Tensorflow             : shape: (2, 2, 256) mean: -0.002196 sd: 1.050574\n",
      "Tensorflow Probability : shape: (2, 2, 256) mean: -0.022014 sd: 1.020308\n"
     ]
    }
   ],
   "source": [
    "# Tensorflow's distribution\n",
    "z = tf.random.normal([2, 2, 256])\n",
    "print('Tensorflow             : shape: {} mean: {:.6f} sd: {:.6f}'.format(z.shape, tf.math.reduce_mean(z), tf.math.reduce_std(z)))\n",
    "# Tensorflow Probability's distribution\n",
    "target_dist = tfd.Normal(loc=0., scale=1.)\n",
    "z = target_dist.sample([2, 2, 256])\n",
    "print('Tensorflow Probability : shape: {} mean: {:.6f} sd: {:.6f}'.format(z.shape, tf.math.reduce_mean(z), tf.math.reduce_std(z)))"
   ]
  },
  {
   "cell_type": "markdown",
   "metadata": {},
   "source": [
    "### Create Original Distribution (MNIST)"
   ]
  },
  {
   "cell_type": "code",
   "execution_count": 5,
   "metadata": {},
   "outputs": [
    {
     "name": "stdout",
     "output_type": "stream",
     "text": [
      "train_dataset: 60000 images\n",
      "test_dataset : 10000 images\n"
     ]
    }
   ],
   "source": [
    "(train_x, train_y), (test_x, test_y) = tf.keras.datasets.mnist.load_data()\n",
    "\n",
    "print('train_dataset: {} images'.format(len(train_x)))\n",
    "print('test_dataset : {} images'.format(len(test_x)))"
   ]
  },
  {
   "cell_type": "code",
   "execution_count": 6,
   "metadata": {},
   "outputs": [],
   "source": [
    "SHUFFLE_BUFFER_SIZE = 1000\n",
    "BATCH_SIZE = 64\n",
    "\n",
    "\n",
    "@tf.function\n",
    "def _parse_function(img, label):\n",
    "    feature = {}\n",
    "    img = tf.pad(img, paddings=[[2, 2], [2, 2]], mode=\"CONSTANT\")\n",
    "    img = tf.expand_dims(img, axis=-1)\n",
    "    img = tf.reshape(img, [32, 32, 1])\n",
    "    img = tf.cast(img, dtype=tf.float32)\n",
    "    img = (img / (255.0 / 2)) - 1\n",
    "    feature[\"img\"] = img\n",
    "    feature[\"label\"] = label\n",
    "    return feature\n",
    "\n",
    "\n",
    "train_dataset_raw = tf.data.Dataset.from_tensor_slices((train_x, train_y)).map(\n",
    "    _parse_function\n",
    ")\n",
    "test_dataset_raw = tf.data.Dataset.from_tensor_slices((test_x, test_y)).map(\n",
    "    _parse_function\n",
    ")"
   ]
  },
  {
   "cell_type": "code",
   "execution_count": 7,
   "metadata": {},
   "outputs": [
    {
     "data": {
      "image/png": "[encoded data removed]",
      "text/plain": [
       "<Figure size 432x288 with 1 Axes>"
      ]
     },
     "metadata": {
      "needs_background": "light"
     },
     "output_type": "display_data"
    }
   ],
   "source": [
    "for image_features in train_dataset_raw.take(1):\n",
    "    plt.imshow(tf.squeeze(image_features['img'], axis=-1), cmap='gray_r')"
   ]
  },
  {
   "cell_type": "markdown",
   "metadata": {},
   "source": [
    "## Build Multi-Scale Model"
   ]
  },
  {
   "cell_type": "markdown",
   "metadata": {},
   "source": [
    "### Invertive 1x1 convolution Bijector\n",
    "ref. \n",
    "- Tensorflow Probability's implementation tensorflow_probability/bijector/MatvecLU \n",
    "- the issue https://github.com/tensorflow/probability/issues/545 "
   ]
  },
  {
   "cell_type": "code",
   "execution_count": 8,
   "metadata": {
    "collapsed": true,
    "jupyter": {
     "outputs_hidden": true,
     "source_hidden": true
    }
   },
   "outputs": [
    {
     "name": "stdout",
     "output_type": "stream",
     "text": [
      "conv1x1 variable\n",
      " (<tf.Variable 'trainable_lu_factorization/lower_upper:0' shape=(3, 3) dtype=float32, numpy=\n",
      "array([[-0.81331706, -0.4522668 ,  0.36601922],\n",
      "       [ 0.66093314,  1.1237284 , -0.41721344],\n",
      "       [ 0.27371168, -0.19180459, -1.0941547 ]], dtype=float32)>, <tf.Variable 'trainable_lu_factorization/permutation:0' shape=(3,) dtype=int32, numpy=array([2, 0, 1], dtype=int32)>)\n",
      "Model: \"conv1x1\"\n",
      "_________________________________________________________________\n",
      "Layer (type)                 Output Shape              Param #   \n",
      "=================================================================\n",
      "input_1 (InputLayer)         [(None, 28, 28, 3)]       0         \n",
      "_________________________________________________________________\n",
      "distribution_lambda (Distrib ((None, 28, 28, 3), (None 9         \n",
      "_________________________________________________________________\n",
      "distribution_lambda_1 (Distr ((None, 28, 28, 3), (None 9         \n",
      "=================================================================\n",
      "Total params: 9\n",
      "Trainable params: 9\n",
      "Non-trainable params: 0\n",
      "_________________________________________________________________\n",
      "Some Trainable Variables exist\n",
      "tf.Tensor(-1.553999e-06, shape=(), dtype=float32)\n",
      "WARNING:tensorflow:From /home/meguru/Github/tf-test/venv/lib/python3.7/site-packages/tensorflow_core/python/ops/array_grad.py:502: _EagerTensorBase.cpu (from tensorflow.python.framework.ops) is deprecated and will be removed in a future version.\n",
      "Instructions for updating:\n",
      "Use tf.identity instead.\n",
      "(2, 28, 28, 3)\n"
     ]
    }
   ],
   "source": [
    "def trainable_lu_factorization(event_size,\n",
    "                               batch_shape=(),\n",
    "                               seed=None,\n",
    "                               dtype=tf.float32,\n",
    "                               name=None):\n",
    "    with tf.name_scope('trainable_lu_factorization'):\n",
    "        event_size = tf.convert_to_tensor(event_size,\n",
    "                                          dtype=tf.int32,\n",
    "                                          name='event_size')\n",
    "        batch_shape = tf.convert_to_tensor(batch_shape,\n",
    "                                           dtype=event_size.dtype,\n",
    "                                           name='batch_shape')\n",
    "        random_matrix = tf.Variable(tf.random.uniform(\n",
    "            shape=tf.concat([batch_shape, [event_size, event_size]], axis=0),\n",
    "            dtype=dtype,\n",
    "            seed=seed,\n",
    "        ),\n",
    "                                    name='conv1x1_weights')\n",
    "\n",
    "        def lu_p(m):\n",
    "            return tf.linalg.lu(tf.linalg.qr(m).q)\n",
    "\n",
    "        # lower_upper = tfp.util.DeferredTensor(lambda m: lu_p(m)[0],\n",
    "        #                                       random_matrix)\n",
    "        # permutation = tfp.util.DeferredTensor(lambda m: lu_p(m)[1],\n",
    "        #                                       random_matrix,\n",
    "        #                                       # trainable=False,\n",
    "        #                                       dtype=tf.int32,\n",
    "        #                                       shape=random_matrix.shape[:-1])\n",
    "        lower_upper = tf.Variable(lu_p(random_matrix)[0], name='lower_upper')\n",
    "        # ref https://github.com/tensorflow/probability/issues/545\n",
    "        permutation = tf.Variable(lu_p(random_matrix)[1], trainable=False, name='permutation')\n",
    "        return lower_upper, permutation\n",
    "\n",
    "\n",
    "def build_model(channels=3):\n",
    "    # conv1x1 setup\n",
    "    t_lower_upper, t_permutation = trainable_lu_factorization(channels)\n",
    "    conv1x1 = tfb.MatvecLU(t_lower_upper, t_permutation, name='MatvecLU')\n",
    "    print('conv1x1 variable\\n', conv1x1.variables)\n",
    "    inv_conv1x1 = tfb.Invert(conv1x1)\n",
    "\n",
    "    # forward setup\n",
    "    fwd = tfp.layers.DistributionLambda(\n",
    "        lambda x: conv1x1(tfd.Deterministic(x)))\n",
    "    fwd.vars = conv1x1.trainable_variables\n",
    "\n",
    "    # inverse setup\n",
    "    inv = tfp.layers.DistributionLambda(\n",
    "        lambda x: inv_conv1x1(tfd.Deterministic(x)))\n",
    "    inv.vars = inv_conv1x1.trainable_variables\n",
    "    \n",
    "    x: tf.Tensor = tf.keras.Input(shape=[28, 28, channels])\n",
    "    fwd_x: tfp.distributions.TransformedDistribution = fwd(x)\n",
    "    rev_fwd_x: tfp.distributions.TransformedDistribution = inv(fwd_x)\n",
    "    example_model = tf.keras.Model(inputs=x, outputs=rev_fwd_x, name='conv1x1')\n",
    "    return example_model\n",
    "\n",
    "\n",
    "def test_conv1x1():\n",
    "    example_model = build_model()\n",
    "    example_model.trainable = True\n",
    "    example_model.summary()\n",
    "\n",
    "    real_x = tf.random.uniform(shape=[2, 28, 28, 3], dtype=tf.float32)\n",
    "    if example_model.weights == []:\n",
    "        print('No Trainable Variable exists')\n",
    "    else:\n",
    "        print('Some Trainable Variables exist')\n",
    "\n",
    "    with tf.GradientTape() as tape:\n",
    "        tape.watch(real_x)\n",
    "        out_x = example_model(real_x)\n",
    "        out_x = out_x\n",
    "        loss = out_x - real_x\n",
    "    print(tf.math.reduce_sum(real_x - out_x))\n",
    "    # => nealy 0\n",
    "    # ex. tf.Tensor(1.3522818e-05, shape=(), dtype=float32)\n",
    "\n",
    "    try:\n",
    "        print(tape.gradient(loss, real_x).shape)\n",
    "    except Exception as e:\n",
    "        print('Cannot Calculate Gradient')\n",
    "        print(e)\n",
    "        \n",
    "test_conv1x1()"
   ]
  },
  {
   "cell_type": "markdown",
   "metadata": {},
   "source": [
    "### Actnorm Bijector\n",
    "Notice: Initialize by the **First Batch**\n",
    "\n",
    "※ By the way, Actnorm implementation by OpenAI https://github.com/openai/glow/blob/master/tfops.py#L71-L87　is not same as their paper's formula, I think...     \n",
    "Forward's formula may be $(x + b) \\odot s$ ..."
   ]
  },
  {
   "cell_type": "code",
   "execution_count": 9,
   "metadata": {},
   "outputs": [
    {
     "name": "stdout",
     "output_type": "stream",
     "text": [
      "input: x [ 99.99851  100.00916   99.995056  99.996994]\n",
      "output: y [ 2.7424096e-06  4.0037930e-06 -2.6100874e-06  2.9100477e-06]\n",
      "inverse: z [ 99.99851  100.00916   99.995056  99.996994]\n",
      "log_det_jacobian:  -2.519736\n"
     ]
    }
   ],
   "source": [
    "class Actnorm(tfb.Bijector):\n",
    "    def __init__(self, channels:int, validate_args=False, name='actnorm', log_scale_factor=1.0):\n",
    "        super(Actnorm, self).__init__(\n",
    "            # this bijector affect vector-wise (channel-wise) => forward_min_event_ndims=1\n",
    "            forward_min_event_ndims=1,\n",
    "            validate_args=validate_args,\n",
    "            name=name\n",
    "        )\n",
    "        self.log_scale_factor = log_scale_factor\n",
    "        self.initialized = False\n",
    "        self.log_scale = tf.Variable(tf.random.normal([channels]))\n",
    "        self.bias = tf.Variable(tf.random.normal([channels]))\n",
    "        \n",
    "    def setStat(self, x):\n",
    "        mean = tf.math.reduce_mean(x, axis=[0, 1, 2])\n",
    "        var = tf.math.reduce_mean((x - mean) ** 2, axis=[0, 1, 2])\n",
    "        stdvar = tf.math.sqrt(var) + 1e-6\n",
    "        log_scale = tf.math.log(1./ stdvar / self.log_scale_factor) * self.log_scale_factor\n",
    "        self.bias.assign(- mean)\n",
    "        self.log_scale.assign(log_scale)\n",
    "\n",
    "    def _forward(self, x):\n",
    "        if not self.initialized:\n",
    "            self.setStat(x)\n",
    "            self.initialized = True\n",
    "        return (x + self.bias) * tf.exp(self.log_scale)\n",
    "    \n",
    "    def _inverse(self, y):\n",
    "        if not self.initialized:\n",
    "            self.setStat(y)\n",
    "            self.initialized = True\n",
    "        return y * tf.exp(- self.log_scale) - self.bias\n",
    "    \n",
    "    def _forward_log_det_jacobian(self, x):\n",
    "        return tf.reduce_sum(self.log_scale)\n",
    "\n",
    "    def _inverse_log_det_jacobian(self, y):\n",
    "        return - tf.reduce_sum(self.log_scale)\n",
    "    \n",
    "def test_actnorm():\n",
    "    actnorm = Actnorm(4)\n",
    "    x = tf.random.normal([100, 16, 16, 4]) + 100\n",
    "    y = actnorm.forward(x)\n",
    "    z = actnorm.inverse(y)\n",
    "    print('input: x', tf.reduce_mean(x, axis=[0, 1, 2]).numpy())\n",
    "    print('output: y', tf.reduce_mean(y, axis=[0, 1, 2]).numpy())\n",
    "    print('inverse: z', tf.reduce_mean(z, axis=[0, 1, 2]).numpy())\n",
    "    print('log_det_jacobian: ', actnorm.forward_log_det_jacobian(y, event_ndims=3).numpy())\n",
    "\n",
    "test_actnorm()"
   ]
  },
  {
   "cell_type": "markdown",
   "metadata": {},
   "source": [
    "### Multi-Scale Model\n",
    "Implement blueprint    \n",
    "![](../img/multi-scale-arch.png)"
   ]
  },
  {
   "cell_type": "markdown",
   "metadata": {},
   "source": [
    "#### Some Utility Class (see. RealNVP_mnist.py)\n",
    "ref. https://github.com/tensorflow/probability/blob/master/tensorflow_probability/examples/models/"
   ]
  },
  {
   "cell_type": "code",
   "execution_count": 13,
   "metadata": {
    "jupyter": {
     "source_hidden": true
    }
   },
   "outputs": [],
   "source": [
    "from tensorflow.keras.layers import Layer, Conv2D\n",
    "\n",
    "# ref RealNVP_mnist.ipynb\n",
    "class NN(Layer):\n",
    "    def __init__(self,\n",
    "                 input_shape,\n",
    "                 n_hidden=[512, 512],\n",
    "                 kernel_size=[[3, 3], [1, 1]],\n",
    "                 strides=[[1, 1], [1, 1]],\n",
    "                 activation=\"relu\",\n",
    "                 name=None):\n",
    "        if name:\n",
    "            super(NN, self).__init__(name=name)\n",
    "        else:\n",
    "            super(NN, self).__init__()\n",
    "        layer_list = []\n",
    "        for i, (hidden, kernel,\n",
    "                stride) in enumerate(zip(n_hidden, kernel_size, strides)):\n",
    "            layer_list.append(\n",
    "                Conv2D(\n",
    "                    hidden,\n",
    "                    kernel_size=kernel,\n",
    "                    strides=stride,\n",
    "                    activation=activation,\n",
    "                    padding='SAME',\n",
    "                    name=\"dense_{}_1\".format(i),\n",
    "                ))\n",
    "        self.layer_list = layer_list\n",
    "        self.log_s_layer = Conv2D(\n",
    "            input_shape,\n",
    "            kernel_size=[3, 3],\n",
    "            strides=[1, 1],\n",
    "            padding='SAME',\n",
    "            kernel_initializer=\"zeros\",\n",
    "            activation=\"tanh\",\n",
    "            name=\"log_s\",\n",
    "        )\n",
    "        self.t_layer = Conv2D(\n",
    "            input_shape,\n",
    "            kernel_size=[3, 3],\n",
    "            strides=[1, 1],\n",
    "            padding='SAME',\n",
    "            kernel_initializer=\"zeros\",\n",
    "            name=\"t\",\n",
    "        )\n",
    "\n",
    "    def call(self, x):\n",
    "        y = x\n",
    "        for layer in self.layer_list:\n",
    "            y = layer(y)\n",
    "        log_s = self.log_s_layer(y)\n",
    "        t = self.t_layer(y)\n",
    "        return log_s, t\n",
    "\n",
    "class RealNVP(tfb.Bijector):\n",
    "    def __init__(\n",
    "            self,\n",
    "            input_shape,\n",
    "            forward_min_event_ndims=3,\n",
    "            validate_args: bool = False,\n",
    "            name=\"real_nvp\",\n",
    "            n_hidden=[512, 512],\n",
    "            **kargs,\n",
    "    ):\n",
    "        super(RealNVP, self).__init__(\n",
    "            validate_args=validate_args,\n",
    "            forward_min_event_ndims=forward_min_event_ndims,\n",
    "            name=name,\n",
    "        )\n",
    "\n",
    "        assert input_shape[-1] % 2 == 0\n",
    "        self.input_shape = input_shape\n",
    "        nn_layer = NN(\n",
    "            input_shape[-1] // 2,\n",
    "            n_hidden=n_hidden,\n",
    "        )\n",
    "        nn_input_shape = input_shape.copy()\n",
    "        nn_input_shape[-1] = input_shape[-1] // 2\n",
    "        x = tf.keras.Input(nn_input_shape)\n",
    "        log_s, t = nn_layer(x)\n",
    "        self.nn = Model(x, [log_s, t], name=self.name + \"/nn\")\n",
    "\n",
    "    def _forward(self, x):\n",
    "        x_a, x_b = tf.split(x, 2, axis=-1)\n",
    "        y_b = x_b\n",
    "        log_s, t = self.nn(x_b)\n",
    "        s = tf.exp(log_s)\n",
    "        y_a = s * x_a + t\n",
    "        y = tf.concat([y_a, y_b], axis=-1)\n",
    "        return y\n",
    "\n",
    "    def _inverse(self, y):\n",
    "        y_a, y_b = tf.split(y, 2, axis=-1)\n",
    "        x_b = y_b\n",
    "        log_s, t = self.nn(y_b)\n",
    "        s = tf.exp(log_s)\n",
    "        x_a = (y_a - t) / s\n",
    "        x = tf.concat([x_a, x_b], axis=-1)\n",
    "        return x\n",
    "\n",
    "    def _forward_log_det_jacobian(self, x):\n",
    "        _, x_b = tf.split(x, 2, axis=-1)\n",
    "        log_s, t = self.nn(x_b)\n",
    "        return tf.reduce_sum(log_s)\n",
    "    \n",
    "class Blockwise3D(tfb.Bijector):\n",
    "    def __init__(self,\n",
    "                 bijectors: list,\n",
    "                 block_sizes: list = None,\n",
    "                 validate_args=False,\n",
    "                 name=None):\n",
    "        if not name:\n",
    "            name = \"blockwise3D_of_\" + \"_and_\".join(\n",
    "                [b.name for b in bijectors])\n",
    "            name = name.replace(\"/\", \"\")\n",
    "        super(Blockwise3D, self).__init__(\n",
    "            forward_min_event_ndims=3,\n",
    "            validate_args=validate_args,\n",
    "            name=name,\n",
    "        )\n",
    "        self._bijectors = bijectors\n",
    "        self._block_sizes = block_sizes\n",
    "\n",
    "    @property\n",
    "    def bijectors(self):\n",
    "        return self._bijectors\n",
    "\n",
    "    @property\n",
    "    def block_sizes(self):\n",
    "        return self._block_sizes\n",
    "\n",
    "    def _forward(self, x):\n",
    "        split_x = (tf.split(x, len(self.bijectors), axis=-1)\n",
    "                   if self.block_sizes is None else tf.split(\n",
    "                       x, self.block_sizes, axis=-1))\n",
    "        split_y = [b.forward(x_) for b, x_ in zip(self.bijectors, split_x)]\n",
    "        y = tf.concat(split_y, axis=-1)\n",
    "        return y\n",
    "\n",
    "    def _inverse(self, y):\n",
    "        split_y = (tf.split(y, len(self.bijectors), axis=-1)\n",
    "                   if self.block_sizes is None else tf.split(\n",
    "                       y, self.block_sizes, axis=-1))\n",
    "        split_x = [b.inverse(y_) for b, y_ in zip(self.bijectors, split_y)]\n",
    "        x = tf.concat(split_x, axis=-1)\n",
    "        return x\n",
    "\n",
    "    def _forward_log_det_jacobian(self, x):\n",
    "        split_x = (tf.split(x, len(self.bijectors), axis=-1)\n",
    "                   if self.block_sizes is None else tf.split(\n",
    "                       x, self.block_sizes, axis=-1))\n",
    "        fldjs = [\n",
    "            b.forward_log_det_jacobian(x_, event_ndims=3)\n",
    "            for b, x_ in zip(self.bijectors, split_x)\n",
    "        ]\n",
    "        return sum(fldjs)\n",
    "\n",
    "    def _inverse_log_det_jacobian(self, y):\n",
    "        split_y = (tf.split(y, len(self.bijectors), axis=-1)\n",
    "                   if self.block_sizes is None else tf.split(\n",
    "                       y, self.block_sizes, axis=-1))\n",
    "        ildjs = [\n",
    "            b.inverse_log_det_jacobian(y_, event_ndims=3)\n",
    "            for b, y_ in zip(self.bijectors, split_y)\n",
    "        ]\n",
    "        return sum(ildjs)\n",
    "    \n",
    "class Squeeze3D(tfb.Bijector):\n",
    "    def __init__(\n",
    "            self,\n",
    "            factor=2,\n",
    "            forward_min_event_ndims=0,\n",
    "            inverse_min_event_ndims=0,\n",
    "            validate_args=False,\n",
    "            name=\"Squeeze\",\n",
    "    ):\n",
    "        self._factor = factor\n",
    "        super(Squeeze3D,\n",
    "              self).__init__(forward_min_event_ndims=forward_min_event_ndims,\n",
    "                             inverse_min_event_ndims=inverse_min_event_ndims,\n",
    "                             name=name,\n",
    "                             is_constant_jacobian=True)\n",
    "\n",
    "    @property\n",
    "    def factor(self):\n",
    "        return self._factor\n",
    "\n",
    "    def _forward(self, x):\n",
    "        (H, W, C) = x.shape[1:]\n",
    "        batch_size = tf.shape(x)[0:1]\n",
    "        tmp_shape = tf.concat(\n",
    "            [\n",
    "                batch_size,\n",
    "                (H // self.factor, self.factor, W // self.factor, self.factor,\n",
    "                 C),\n",
    "            ],\n",
    "            axis=0,\n",
    "        )\n",
    "        output_shape = tf.concat(\n",
    "            [\n",
    "                batch_size,\n",
    "                (H // self.factor, W // self.factor, C * self.factor**2)\n",
    "            ],\n",
    "            axis=0,\n",
    "        )\n",
    "        y = tf.reshape(x, tmp_shape)\n",
    "        y = tf.transpose(y, [0, 1, 3, 5, 2, 4])\n",
    "        y = tf.reshape(y, output_shape)\n",
    "        return y\n",
    "\n",
    "    def _inverse(self, y):\n",
    "        (H, W, C) = y.shape[1:]\n",
    "        batch_size = tf.shape(y)[0:1]\n",
    "        tmp_shape = tf.concat([\n",
    "            batch_size, (H, W, C // self.factor**2, self.factor, self.factor)\n",
    "        ],\n",
    "                              axis=0)\n",
    "        output_shape = tf.concat([\n",
    "            batch_size, (H * self.factor, W * self.factor, C // self.factor**2)\n",
    "        ],\n",
    "                                 axis=0)\n",
    "        x = tf.reshape(y, tmp_shape)\n",
    "        x = tf.transpose(x, [0, 1, 4, 2, 5, 3])\n",
    "        x = tf.reshape(x, output_shape)\n",
    "        return x\n",
    "\n",
    "    def _forward_log_det_jacobian(self, x):\n",
    "        return tf.constant(0.0, dtype=x.dtype)"
   ]
  },
  {
   "cell_type": "code",
   "execution_count": 18,
   "metadata": {},
   "outputs": [
    {
     "data": {
      "text/plain": [
       "<tf.Tensor: id=1953, shape=(), dtype=float32, numpy=0.0>"
      ]
     },
     "execution_count": 18,
     "metadata": {},
     "output_type": "execute_result"
    }
   ],
   "source": [
    "def gen_flowSteps(\n",
    "    # for realnvp\n",
    "    input_shape: list,\n",
    "    n_hidden: list = [128, 128],\n",
    "    # for flowStep\n",
    "    k=4,\n",
    "    forward_min_event_ndims: int = 3,\n",
    "    validate_args: bool = False,\n",
    "    name: str = \"flow_step\",\n",
    "):\n",
    "    flow_step_list = []\n",
    "    for i in range(k):\n",
    "        t_lower_upper, t_permutation = trainable_lu_factorization(input_shape[-1])\n",
    "        flow_step_list.append(Actnorm(input_shape[-1]))\n",
    "        flow_step_list.append(\n",
    "            tfb.MatvecLU(\n",
    "                t_lower_upper, t_permutation, name=\"{}_{}/matveclu\".format(name, i)\n",
    "            )\n",
    "        ),\n",
    "        flow_step_list.append(\n",
    "            RealNVP(\n",
    "                input_shape=input_shape,\n",
    "                n_hidden=n_hidden,\n",
    "                validate_args=validate_args,\n",
    "                name=\"{}_{}/realnvp\".format(name, i),\n",
    "            )\n",
    "        )\n",
    "\n",
    "    flowSteps = tfb.Chain(\n",
    "        list(reversed(flow_step_list)), validate_args=validate_args, name=name\n",
    "    )\n",
    "    return flowSteps\n",
    "\n",
    "\n",
    "def test_gen_flowSteps():\n",
    "    flowSteps = gen_flowSteps(\n",
    "        k=2, input_shape=[16, 16, 4], forward_min_event_ndims=0, name=\"flowstep_0\"\n",
    "    )\n",
    "    x = tf.keras.Input([16, 16, 4])\n",
    "    y = flowSteps(x)\n",
    "    # tf.keras.Model(x, y).summary()\n",
    "\n",
    "    x = tf.random.normal([6, 16, 16, 4])\n",
    "    y = flowSteps.forward(x)\n",
    "    z = flowSteps.inverse(y)\n",
    "    return tf.reduce_sum(z - x)\n",
    "\n",
    "\n",
    "test_gen_flowSteps()"
   ]
  },
  {
   "cell_type": "code",
   "execution_count": 19,
   "metadata": {},
   "outputs": [
    {
     "name": "stdout",
     "output_type": "stream",
     "text": [
      "66\n"
     ]
    },
    {
     "data": {
      "text/plain": [
       "<tf.Tensor: id=4803, shape=(), dtype=float32, numpy=0.0>"
      ]
     },
     "execution_count": 19,
     "metadata": {},
     "output_type": "execute_result"
    }
   ],
   "source": [
    "def gen_flow(input_shape, level=3, flow_step_args: dict = None):\n",
    "    def _gen_input_shapes(input_shape, level):\n",
    "        input_shape = input_shape\n",
    "        input_shapes = []\n",
    "        for i in range(level):\n",
    "            input_shape = [\n",
    "                input_shape[0] // 2,\n",
    "                input_shape[1] // 2,\n",
    "                input_shape[2] * 2,\n",
    "            ]\n",
    "            input_shapes.append(input_shape)\n",
    "        return input_shapes\n",
    "\n",
    "    input_shape[-1] = input_shape[-1] * 2\n",
    "    input_shapes = _gen_input_shapes(input_shape, level)\n",
    "\n",
    "    def _add_flow(_input_shapes, flow_step_args):\n",
    "        flow_lists = []\n",
    "        flow_lists.append(\n",
    "            Squeeze3D(name=\"Squeeze_{}\".format(level - len(_input_shapes)))\n",
    "        )\n",
    "        flowSteps = gen_flowSteps(\n",
    "           k=2,\n",
    "           input_shape=_input_shapes[0],\n",
    "           name=\"Flowsteps_{}\".format(level - len(_input_shapes)),\n",
    "        )\n",
    "        flow_lists.append(flowSteps)\n",
    "        if len(_input_shapes) != 1:\n",
    "            flow_lists.append(\n",
    "                Blockwise3D(\n",
    "                    [\n",
    "                        tfb.Identity(),\n",
    "                        tfb.Chain(\n",
    "                            list(reversed(_add_flow(_input_shapes[1:], flow_step_args)))\n",
    "                        ),\n",
    "                    ],\n",
    "                    name=\"Blockwise3D_{}\".format(level - len(_input_shapes)),\n",
    "                )\n",
    "            )\n",
    "        flow_lists.append(\n",
    "            tfb.Invert(\n",
    "                Squeeze3D(name=\"Unsqueeze_{}\".format(level - len(_input_shapes)))\n",
    "            )\n",
    "        )\n",
    "        return flow_lists\n",
    "\n",
    "    return tfb.Chain(list(reversed(_add_flow(input_shapes, level))))\n",
    "\n",
    "\n",
    "def test_gen_flow():\n",
    "    flow = gen_flow([32, 32, 1])\n",
    "    print(len(flow.trainable_variables))\n",
    "    x = tf.keras.Input([32, 32, 1])\n",
    "    y = flow.forward(x)\n",
    "    # tf.keras.Model(x, y).summary()\n",
    "    tf.keras.utils.plot_model(\n",
    "        tf.keras.Model(x, y), show_shapes=True, to_file=\"realnvp.png\"\n",
    "    )\n",
    "    x = tf.random.normal([3, 32, 32, 1])\n",
    "    y = flow.forward(x)\n",
    "    z = flow.inverse(y) \n",
    "    return tf.reduce_sum(z - x)\n",
    "\n",
    "test_gen_flow()"
   ]
  },
  {
   "cell_type": "markdown",
   "metadata": {},
   "source": [
    "## Build Model"
   ]
  },
  {
   "cell_type": "markdown",
   "metadata": {},
   "source": [
    "### TransformDistribution"
   ]
  },
  {
   "cell_type": "code",
   "execution_count": 28,
   "metadata": {},
   "outputs": [
    {
     "name": "stdout",
     "output_type": "stream",
     "text": [
      "66\n",
      "trainable_variables:  66\n"
     ]
    }
   ],
   "source": [
    "flow_bijector = gen_flow([32, 32, 1], level=3)\n",
    "print(len(flow_bijector.trainable_variables))\n",
    "flow = tfd.TransformedDistribution(\n",
    "    event_shape =[32, 32, 1],\n",
    "    distribution=tfd.Normal(loc=0.0, scale=1.0),\n",
    "    bijector=flow_bijector\n",
    ")\n",
    "print('trainable_variables: ', len(flow.bijector.trainable_variables))"
   ]
  },
  {
   "cell_type": "markdown",
   "metadata": {},
   "source": [
    "### Loss, Optimizer"
   ]
  },
  {
   "cell_type": "code",
   "execution_count": 21,
   "metadata": {},
   "outputs": [],
   "source": [
    "# !rm -r checkpoints"
   ]
  },
  {
   "cell_type": "code",
   "execution_count": 30,
   "metadata": {},
   "outputs": [],
   "source": [
    "@tf.function\n",
    "def loss():\n",
    "    return - tf.reduce_mean(flow.log_prob(targets['img']))\n",
    "\n",
    "\n",
    "optimizer = tf.optimizers.Adam(learning_rate=1e-5) \n",
    "# log = tf.summary.create_file_writer('checkpoints')\n",
    "avg_loss = tf.keras.metrics.Mean(name='loss', dtype=tf.float32)"
   ]
  },
  {
   "cell_type": "code",
   "execution_count": 31,
   "metadata": {},
   "outputs": [
    {
     "name": "stdout",
     "output_type": "stream",
     "text": [
      "(120, 32, 32, 1)\n",
      "tf.Tensor(216612620000.0, shape=(), dtype=float32)\n"
     ]
    }
   ],
   "source": [
    "BATCH_SIZE=120\n",
    "train_dataset = train_dataset_raw.shuffle(SHUFFLE_BUFFER_SIZE).batch(BATCH_SIZE)\n",
    "for target in train_dataset.take(1):\n",
    "    targets = target\n",
    "print(targets['img'].shape)\n",
    "with tf.GradientTape() as tape:\n",
    "    log_prob_loss = loss()\n",
    "grads = tape.gradient(log_prob_loss, flow.trainable_variables)\n",
    "print(log_prob_loss)"
   ]
  },
  {
   "cell_type": "markdown",
   "metadata": {},
   "source": [
    "### Training"
   ]
  },
  {
   "cell_type": "code",
   "execution_count": 32,
   "metadata": {},
   "outputs": [
    {
     "name": "stdout",
     "output_type": "stream",
     "text": [
      "Step <tf.Variable 'Adam/iter:0' shape=() dtype=int64, numpy=1000> Loss 64046512.000000\n",
      "Step <tf.Variable 'Adam/iter:0' shape=() dtype=int64, numpy=2000> Loss 5234191.500000\n",
      "Step <tf.Variable 'Adam/iter:0' shape=() dtype=int64, numpy=3000> Loss 1374893.500000\n",
      "Step <tf.Variable 'Adam/iter:0' shape=() dtype=int64, numpy=4000> Loss 576305.625000\n",
      "Step <tf.Variable 'Adam/iter:0' shape=() dtype=int64, numpy=5000> Loss 343090.000000\n",
      "Step <tf.Variable 'Adam/iter:0' shape=() dtype=int64, numpy=6000> Loss 236649.734375\n",
      "Step <tf.Variable 'Adam/iter:0' shape=() dtype=int64, numpy=7000> Loss 169667.640625\n",
      "Step <tf.Variable 'Adam/iter:0' shape=() dtype=int64, numpy=8000> Loss 139046.046875\n",
      "Step <tf.Variable 'Adam/iter:0' shape=() dtype=int64, numpy=9000> Loss 78224.703125\n",
      "Step <tf.Variable 'Adam/iter:0' shape=() dtype=int64, numpy=10000> Loss 18211.875000\n",
      "Step <tf.Variable 'Adam/iter:0' shape=() dtype=int64, numpy=11000> Loss -10614.597656\n",
      "Step <tf.Variable 'Adam/iter:0' shape=() dtype=int64, numpy=12000> Loss -33207.320312\n",
      "Step <tf.Variable 'Adam/iter:0' shape=() dtype=int64, numpy=13000> Loss -53918.191406\n",
      "Step <tf.Variable 'Adam/iter:0' shape=() dtype=int64, numpy=14000> Loss -70345.757812\n",
      "Step <tf.Variable 'Adam/iter:0' shape=() dtype=int64, numpy=15000> Loss -85415.359375\n"
     ]
    }
   ],
   "source": [
    "n_epochs = 30\n",
    "\n",
    "flag = False\n",
    "for epoch in range(n_epochs):\n",
    "    if flag:\n",
    "        print('raise NaN')\n",
    "        break\n",
    "    for targets in train_dataset:\n",
    "        with tf.GradientTape() as tape:\n",
    "            log_prob_loss = loss()\n",
    "        grads = tape.gradient(log_prob_loss, flow.trainable_variables)\n",
    "        optimizer.apply_gradients(zip(grads, flow.trainable_variables))\n",
    "        if tf.math.is_nan(log_prob_loss):\n",
    "            flag=True\n",
    "            break\n",
    "        avg_loss.update_state(log_prob_loss)\n",
    "        if tf.equal(optimizer.iterations % 1000, 0):\n",
    "            print(\"Step {} Loss {:.6f}\".format(optimizer.iterations, avg_loss.result()))\n",
    "        if tf.equal(optimizer.iterations % 100, 0):\n",
    "            # with log.as_default():\n",
    "            #     tf.summary.scalar(\"loss\", avg_loss.result(), step=optimizer.iterations)\n",
    "            #     avg_loss.reset_states()\n",
    "            avg_loss.reset_states()"
   ]
  },
  {
   "cell_type": "markdown",
   "metadata": {},
   "source": [
    "### Inference"
   ]
  },
  {
   "cell_type": "code",
   "execution_count": 34,
   "metadata": {},
   "outputs": [],
   "source": [
    "test_dataset = test_dataset_raw.shuffle(SHUFFLE_BUFFER_SIZE).batch(BATCH_SIZE)"
   ]
  },
  {
   "cell_type": "code",
   "execution_count": 35,
   "metadata": {},
   "outputs": [
    {
     "name": "stdout",
     "output_type": "stream",
     "text": [
      "log probability:  -25.893017\n",
      "inv mean:  -0.69174653  std:  7.0334663\n",
      "re:trg mean:  -0.81524616  std:  0.52851236\n",
      "(1, 32, 32, 1)\n"
     ]
    },
    {
     "data": {
      "text/plain": [
       "<matplotlib.image.AxesImage at 0x7f0ce362fc10>"
      ]
     },
     "execution_count": 35,
     "metadata": {},
     "output_type": "execute_result"
    },
    {
     "data": {
      "image/png": "[encoded data removed]",
      "text/plain": [
       "<Figure size 576x576 with 6 Axes>"
      ]
     },
     "metadata": {
      "needs_background": "light"
     },
     "output_type": "display_data"
    }
   ],
   "source": [
    "fig = plt.figure(figsize=(8, 8))\n",
    "for targets in test_dataset.take(1):\n",
    "    trg = targets[\"img\"]\n",
    "    inv = flow.bijector.inverse(trg)\n",
    "    re_trg = flow.bijector.forward(inv)\n",
    "\n",
    "print('log probability: ', tf.reduce_mean(tfd.Normal(0., 1.).log_prob(inv)).numpy())\n",
    "print(\"inv mean: \", tf.reduce_mean(inv).numpy(), \" std: \", tf.math.reduce_std(inv).numpy())\n",
    "print(\"re:trg mean: \", tf.reduce_mean(re_trg).numpy(), \" std: \", tf.math.reduce_std(re_trg).numpy())\n",
    "\n",
    "re_inv = np.array([(inv[0] + inv[1]) / 2.0])\n",
    "print(re_inv.shape)\n",
    "re_re_trg = flow.bijector.forward(re_inv)\n",
    "\n",
    "ax = fig.add_subplot(2, 3, 1)\n",
    "ax.imshow(tf.squeeze(trg[0], axis=-1), aspect=\"auto\", cmap=\"gray_r\")\n",
    "\n",
    "ax = fig.add_subplot(2, 3, 4)\n",
    "ax.imshow(tf.squeeze(re_trg[0], axis=-1), aspect=\"auto\", cmap=\"gray_r\")\n",
    "\n",
    "ax = fig.add_subplot(2, 3, 2)\n",
    "ax.imshow(tf.squeeze(trg[1], axis=-1), aspect=\"auto\", cmap=\"gray_r\")\n",
    "\n",
    "ax = fig.add_subplot(2, 3, 5)\n",
    "ax.imshow(tf.squeeze(re_trg[1], axis=-1), aspect=\"auto\", cmap=\"gray_r\")\n",
    "\n",
    "ax = fig.add_subplot(2, 3, 3)\n",
    "ax.imshow(tf.squeeze(re_inv[0], axis=-1), aspect=\"auto\", cmap=\"gray_r\")\n",
    "\n",
    "ax = fig.add_subplot(2, 3, 6)\n",
    "ax.imshow(tf.squeeze(re_re_trg[0], axis=-1), aspect=\"auto\", cmap=\"gray_r\")"
   ]
  }
 ],
 "metadata": {
  "kernelspec": {
   "display_name": "Python 3",
   "language": "python",
   "name": "python3"
  },
  "language_info": {
   "codemirror_mode": {
    "name": "ipython",
    "version": 3
   },
   "file_extension": ".py",
   "mimetype": "text/x-python",
   "name": "python",
   "nbconvert_exporter": "python",
   "pygments_lexer": "ipython3",
   "version": "3.7.4"
  }
 },
 "nbformat": 4,
 "nbformat_minor": 4
}
